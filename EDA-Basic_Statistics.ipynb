{
 "cells": [
  {
   "cell_type": "code",
   "execution_count": 1,
   "id": "7e2d63a6",
   "metadata": {},
   "outputs": [],
   "source": [
    "#importing the libraries that are needed to perform the EDA\n",
    "import numpy as np\n",
    "import pandas as pd\n",
    "import matplotlib.pyplot as plt\n",
    "import seaborn as sns\n",
    "from sklearn.model_selection import train_test_split"
   ]
  },
  {
   "cell_type": "code",
   "execution_count": 2,
   "id": "ecf65840",
   "metadata": {},
   "outputs": [
    {
     "data": {
      "text/html": [
       "<div>\n",
       "<style scoped>\n",
       "    .dataframe tbody tr th:only-of-type {\n",
       "        vertical-align: middle;\n",
       "    }\n",
       "\n",
       "    .dataframe tbody tr th {\n",
       "        vertical-align: top;\n",
       "    }\n",
       "\n",
       "    .dataframe thead th {\n",
       "        text-align: right;\n",
       "    }\n",
       "</style>\n",
       "<table border=\"1\" class=\"dataframe\">\n",
       "  <thead>\n",
       "    <tr style=\"text-align: right;\">\n",
       "      <th></th>\n",
       "      <th>loan_id</th>\n",
       "      <th>no_of_dependents</th>\n",
       "      <th>education</th>\n",
       "      <th>self_employed</th>\n",
       "      <th>income_annum</th>\n",
       "      <th>loan_amount</th>\n",
       "      <th>loan_term</th>\n",
       "      <th>cibil_score</th>\n",
       "      <th>residential_assets_value</th>\n",
       "      <th>commercial_assets_value</th>\n",
       "      <th>luxury_assets_value</th>\n",
       "      <th>bank_asset_value</th>\n",
       "      <th>loan_status</th>\n",
       "    </tr>\n",
       "  </thead>\n",
       "  <tbody>\n",
       "    <tr>\n",
       "      <th>0</th>\n",
       "      <td>1</td>\n",
       "      <td>2.0</td>\n",
       "      <td>Graduate</td>\n",
       "      <td>No</td>\n",
       "      <td>9600000.0</td>\n",
       "      <td>29900000.0</td>\n",
       "      <td>12.0</td>\n",
       "      <td>778</td>\n",
       "      <td>NaN</td>\n",
       "      <td>17600000.0</td>\n",
       "      <td>22700000.0</td>\n",
       "      <td>8000000.0</td>\n",
       "      <td>Approved</td>\n",
       "    </tr>\n",
       "    <tr>\n",
       "      <th>1</th>\n",
       "      <td>2</td>\n",
       "      <td>0.0</td>\n",
       "      <td>Not Graduate</td>\n",
       "      <td>Yes</td>\n",
       "      <td>4100000.0</td>\n",
       "      <td>12200000.0</td>\n",
       "      <td>8.0</td>\n",
       "      <td>417</td>\n",
       "      <td>2700000.0</td>\n",
       "      <td>2200000.0</td>\n",
       "      <td>8800000.0</td>\n",
       "      <td>3300000.0</td>\n",
       "      <td>Rejected</td>\n",
       "    </tr>\n",
       "    <tr>\n",
       "      <th>2</th>\n",
       "      <td>3</td>\n",
       "      <td>3.0</td>\n",
       "      <td>Graduate</td>\n",
       "      <td>No</td>\n",
       "      <td>9100000.0</td>\n",
       "      <td>29700000.0</td>\n",
       "      <td>20.0</td>\n",
       "      <td>506</td>\n",
       "      <td>7100000.0</td>\n",
       "      <td>4500000.0</td>\n",
       "      <td>33300000.0</td>\n",
       "      <td>12800000.0</td>\n",
       "      <td>Rejected</td>\n",
       "    </tr>\n",
       "    <tr>\n",
       "      <th>3</th>\n",
       "      <td>4</td>\n",
       "      <td>3.0</td>\n",
       "      <td>Graduate</td>\n",
       "      <td>No</td>\n",
       "      <td>8200000.0</td>\n",
       "      <td>30700000.0</td>\n",
       "      <td>8.0</td>\n",
       "      <td>467</td>\n",
       "      <td>18200000.0</td>\n",
       "      <td>3300000.0</td>\n",
       "      <td>23300000.0</td>\n",
       "      <td>7900000.0</td>\n",
       "      <td>Rejected</td>\n",
       "    </tr>\n",
       "    <tr>\n",
       "      <th>4</th>\n",
       "      <td>5</td>\n",
       "      <td>5.0</td>\n",
       "      <td>Not Graduate</td>\n",
       "      <td>Yes</td>\n",
       "      <td>9800000.0</td>\n",
       "      <td>24200000.0</td>\n",
       "      <td>20.0</td>\n",
       "      <td>382</td>\n",
       "      <td>12400000.0</td>\n",
       "      <td>8200000.0</td>\n",
       "      <td>29400000.0</td>\n",
       "      <td>NaN</td>\n",
       "      <td>Rejected</td>\n",
       "    </tr>\n",
       "  </tbody>\n",
       "</table>\n",
       "</div>"
      ],
      "text/plain": [
       "   loan_id   no_of_dependents      education  self_employed   income_annum  \\\n",
       "0        1                2.0       Graduate             No      9600000.0   \n",
       "1        2                0.0   Not Graduate            Yes      4100000.0   \n",
       "2        3                3.0       Graduate             No      9100000.0   \n",
       "3        4                3.0       Graduate             No      8200000.0   \n",
       "4        5                5.0   Not Graduate            Yes      9800000.0   \n",
       "\n",
       "    loan_amount   loan_term   cibil_score   residential_assets_value  \\\n",
       "0    29900000.0        12.0           778                        NaN   \n",
       "1    12200000.0         8.0           417                  2700000.0   \n",
       "2    29700000.0        20.0           506                  7100000.0   \n",
       "3    30700000.0         8.0           467                 18200000.0   \n",
       "4    24200000.0        20.0           382                 12400000.0   \n",
       "\n",
       "    commercial_assets_value   luxury_assets_value   bank_asset_value  \\\n",
       "0                17600000.0            22700000.0          8000000.0   \n",
       "1                 2200000.0             8800000.0          3300000.0   \n",
       "2                 4500000.0            33300000.0         12800000.0   \n",
       "3                 3300000.0            23300000.0          7900000.0   \n",
       "4                 8200000.0            29400000.0                NaN   \n",
       "\n",
       "   loan_status  \n",
       "0     Approved  \n",
       "1     Rejected  \n",
       "2     Rejected  \n",
       "3     Rejected  \n",
       "4     Rejected  "
      ]
     },
     "execution_count": 2,
     "metadata": {},
     "output_type": "execute_result"
    }
   ],
   "source": [
    "# lets read data using read_csv\n",
    "df=pd.read_csv(\"loan_approval_dataset.csv\")\n",
    "df.head()"
   ]
  },
  {
   "cell_type": "code",
   "execution_count": 3,
   "id": "e9eb476b",
   "metadata": {},
   "outputs": [
    {
     "name": "stdout",
     "output_type": "stream",
     "text": [
      "number of rows 4269\n",
      "number of columns 13\n"
     ]
    }
   ],
   "source": [
    "print(\"number of rows\",df.shape[0])\n",
    "print(\"number of columns\",df.shape[1])"
   ]
  },
  {
   "cell_type": "code",
   "execution_count": 4,
   "id": "e535e3f0",
   "metadata": {},
   "outputs": [
    {
     "data": {
      "text/plain": [
       "Index(['loan_id', ' no_of_dependents', ' education', ' self_employed',\n",
       "       ' income_annum', ' loan_amount', ' loan_term', ' cibil_score',\n",
       "       ' residential_assets_value', ' commercial_assets_value',\n",
       "       ' luxury_assets_value', ' bank_asset_value', ' loan_status'],\n",
       "      dtype='object')"
      ]
     },
     "execution_count": 4,
     "metadata": {},
     "output_type": "execute_result"
    }
   ],
   "source": [
    "df.columns\n",
    "#we could see every column name starting with space lets trimor strip out that spaces"
   ]
  },
  {
   "cell_type": "code",
   "execution_count": 5,
   "id": "de5967b6",
   "metadata": {},
   "outputs": [
    {
     "data": {
      "text/plain": [
       "Index(['loan_id', 'no_of_dependents', 'education', 'self_employed',\n",
       "       'income_annum', 'loan_amount', 'loan_term', 'cibil_score',\n",
       "       'residential_assets_value', 'commercial_assets_value',\n",
       "       'luxury_assets_value', 'bank_asset_value', 'loan_status'],\n",
       "      dtype='object')"
      ]
     },
     "execution_count": 5,
     "metadata": {},
     "output_type": "execute_result"
    }
   ],
   "source": [
    "df.columns=[i.strip() for i in df.columns]\n",
    "df.columns #this removed all the spaces from each column name"
   ]
  },
  {
   "cell_type": "code",
   "execution_count": 6,
   "id": "c3d680c2",
   "metadata": {},
   "outputs": [],
   "source": [
    "train, test = train_test_split(df, test_size=0.20, random_state=42)#training=68% and teting=33%"
   ]
  },
  {
   "cell_type": "code",
   "execution_count": 7,
   "id": "fad08ca7",
   "metadata": {},
   "outputs": [
    {
     "data": {
      "text/plain": [
       "(3415, 13)"
      ]
     },
     "execution_count": 7,
     "metadata": {},
     "output_type": "execute_result"
    }
   ],
   "source": [
    "train.shape"
   ]
  },
  {
   "cell_type": "code",
   "execution_count": 8,
   "id": "db1493f3",
   "metadata": {},
   "outputs": [
    {
     "data": {
      "text/plain": [
       "(854, 13)"
      ]
     },
     "execution_count": 8,
     "metadata": {},
     "output_type": "execute_result"
    }
   ],
   "source": [
    "test.shape"
   ]
  },
  {
   "cell_type": "code",
   "execution_count": 9,
   "id": "3038444d",
   "metadata": {},
   "outputs": [
    {
     "name": "stdout",
     "output_type": "stream",
     "text": [
      "<class 'pandas.core.frame.DataFrame'>\n",
      "Int64Index: 3415 entries, 1675 to 860\n",
      "Data columns (total 13 columns):\n",
      " #   Column                    Non-Null Count  Dtype  \n",
      "---  ------                    --------------  -----  \n",
      " 0   loan_id                   3415 non-null   int64  \n",
      " 1   no_of_dependents          3404 non-null   float64\n",
      " 2   education                 3407 non-null   object \n",
      " 3   self_employed             3411 non-null   object \n",
      " 4   income_annum              3410 non-null   float64\n",
      " 5   loan_amount               3410 non-null   float64\n",
      " 6   loan_term                 3410 non-null   float64\n",
      " 7   cibil_score               3415 non-null   int64  \n",
      " 8   residential_assets_value  3411 non-null   float64\n",
      " 9   commercial_assets_value   3413 non-null   float64\n",
      " 10  luxury_assets_value       3413 non-null   float64\n",
      " 11  bank_asset_value          3411 non-null   float64\n",
      " 12  loan_status               3415 non-null   object \n",
      "dtypes: float64(8), int64(2), object(3)\n",
      "memory usage: 373.5+ KB\n"
     ]
    }
   ],
   "source": [
    "train.info() #this gives the columns and shows count of non null values in each column \n",
    "#we could see there are null values"
   ]
  },
  {
   "cell_type": "code",
   "execution_count": 10,
   "id": "215efa60",
   "metadata": {},
   "outputs": [
    {
     "name": "stdout",
     "output_type": "stream",
     "text": [
      "loan_id 0\n",
      "no_of_dependents 11\n",
      "education 8\n",
      "self_employed 4\n",
      "income_annum 5\n",
      "loan_amount 5\n",
      "loan_term 5\n",
      "cibil_score 0\n",
      "residential_assets_value 4\n",
      "commercial_assets_value 2\n",
      "luxury_assets_value 2\n",
      "bank_asset_value 4\n",
      "loan_status 0\n"
     ]
    }
   ],
   "source": [
    "for i in train.columns:\n",
    "    print(i,train[i].isnull().sum()) \n",
    "#like this also you can see the count of null values of each column"
   ]
  },
  {
   "cell_type": "code",
   "execution_count": 11,
   "id": "cffcd0b0",
   "metadata": {},
   "outputs": [
    {
     "data": {
      "text/html": [
       "<div>\n",
       "<style scoped>\n",
       "    .dataframe tbody tr th:only-of-type {\n",
       "        vertical-align: middle;\n",
       "    }\n",
       "\n",
       "    .dataframe tbody tr th {\n",
       "        vertical-align: top;\n",
       "    }\n",
       "\n",
       "    .dataframe thead th {\n",
       "        text-align: right;\n",
       "    }\n",
       "</style>\n",
       "<table border=\"1\" class=\"dataframe\">\n",
       "  <thead>\n",
       "    <tr style=\"text-align: right;\">\n",
       "      <th></th>\n",
       "      <th>loan_id</th>\n",
       "      <th>no_of_dependents</th>\n",
       "      <th>income_annum</th>\n",
       "      <th>loan_amount</th>\n",
       "      <th>loan_term</th>\n",
       "      <th>cibil_score</th>\n",
       "      <th>residential_assets_value</th>\n",
       "      <th>commercial_assets_value</th>\n",
       "      <th>luxury_assets_value</th>\n",
       "      <th>bank_asset_value</th>\n",
       "    </tr>\n",
       "  </thead>\n",
       "  <tbody>\n",
       "    <tr>\n",
       "      <th>count</th>\n",
       "      <td>3415.000000</td>\n",
       "      <td>3404.000000</td>\n",
       "      <td>3.410000e+03</td>\n",
       "      <td>3.410000e+03</td>\n",
       "      <td>3410.000000</td>\n",
       "      <td>3415.000000</td>\n",
       "      <td>3.411000e+03</td>\n",
       "      <td>3.413000e+03</td>\n",
       "      <td>3.413000e+03</td>\n",
       "      <td>3.411000e+03</td>\n",
       "    </tr>\n",
       "    <tr>\n",
       "      <th>mean</th>\n",
       "      <td>2149.488141</td>\n",
       "      <td>2.430964</td>\n",
       "      <td>5.064047e+06</td>\n",
       "      <td>1.517196e+07</td>\n",
       "      <td>10.916129</td>\n",
       "      <td>600.263543</td>\n",
       "      <td>7.471240e+06</td>\n",
       "      <td>4.950718e+06</td>\n",
       "      <td>1.518652e+07</td>\n",
       "      <td>4.947904e+06</td>\n",
       "    </tr>\n",
       "    <tr>\n",
       "      <th>std</th>\n",
       "      <td>1224.205641</td>\n",
       "      <td>1.696202</td>\n",
       "      <td>2.812196e+06</td>\n",
       "      <td>9.067579e+06</td>\n",
       "      <td>5.722896</td>\n",
       "      <td>172.188706</td>\n",
       "      <td>6.546442e+06</td>\n",
       "      <td>4.370093e+06</td>\n",
       "      <td>9.175575e+06</td>\n",
       "      <td>3.232274e+06</td>\n",
       "    </tr>\n",
       "    <tr>\n",
       "      <th>min</th>\n",
       "      <td>1.000000</td>\n",
       "      <td>0.000000</td>\n",
       "      <td>2.000000e+05</td>\n",
       "      <td>3.000000e+05</td>\n",
       "      <td>2.000000</td>\n",
       "      <td>300.000000</td>\n",
       "      <td>-1.000000e+05</td>\n",
       "      <td>0.000000e+00</td>\n",
       "      <td>3.000000e+05</td>\n",
       "      <td>0.000000e+00</td>\n",
       "    </tr>\n",
       "    <tr>\n",
       "      <th>25%</th>\n",
       "      <td>1089.500000</td>\n",
       "      <td>1.000000</td>\n",
       "      <td>2.700000e+06</td>\n",
       "      <td>7.800000e+06</td>\n",
       "      <td>6.000000</td>\n",
       "      <td>454.000000</td>\n",
       "      <td>2.100000e+06</td>\n",
       "      <td>1.300000e+06</td>\n",
       "      <td>7.500000e+06</td>\n",
       "      <td>2.300000e+06</td>\n",
       "    </tr>\n",
       "    <tr>\n",
       "      <th>50%</th>\n",
       "      <td>2151.000000</td>\n",
       "      <td>2.000000</td>\n",
       "      <td>5.100000e+06</td>\n",
       "      <td>1.460000e+07</td>\n",
       "      <td>10.000000</td>\n",
       "      <td>603.000000</td>\n",
       "      <td>5.600000e+06</td>\n",
       "      <td>3.700000e+06</td>\n",
       "      <td>1.460000e+07</td>\n",
       "      <td>4.500000e+06</td>\n",
       "    </tr>\n",
       "    <tr>\n",
       "      <th>75%</th>\n",
       "      <td>3206.500000</td>\n",
       "      <td>4.000000</td>\n",
       "      <td>7.500000e+06</td>\n",
       "      <td>2.147500e+07</td>\n",
       "      <td>16.000000</td>\n",
       "      <td>747.500000</td>\n",
       "      <td>1.120000e+07</td>\n",
       "      <td>7.500000e+06</td>\n",
       "      <td>2.180000e+07</td>\n",
       "      <td>7.000000e+06</td>\n",
       "    </tr>\n",
       "    <tr>\n",
       "      <th>max</th>\n",
       "      <td>4268.000000</td>\n",
       "      <td>5.000000</td>\n",
       "      <td>9.900000e+06</td>\n",
       "      <td>3.950000e+07</td>\n",
       "      <td>20.000000</td>\n",
       "      <td>900.000000</td>\n",
       "      <td>2.910000e+07</td>\n",
       "      <td>1.940000e+07</td>\n",
       "      <td>3.920000e+07</td>\n",
       "      <td>1.470000e+07</td>\n",
       "    </tr>\n",
       "  </tbody>\n",
       "</table>\n",
       "</div>"
      ],
      "text/plain": [
       "           loan_id  no_of_dependents  income_annum   loan_amount    loan_term  \\\n",
       "count  3415.000000       3404.000000  3.410000e+03  3.410000e+03  3410.000000   \n",
       "mean   2149.488141          2.430964  5.064047e+06  1.517196e+07    10.916129   \n",
       "std    1224.205641          1.696202  2.812196e+06  9.067579e+06     5.722896   \n",
       "min       1.000000          0.000000  2.000000e+05  3.000000e+05     2.000000   \n",
       "25%    1089.500000          1.000000  2.700000e+06  7.800000e+06     6.000000   \n",
       "50%    2151.000000          2.000000  5.100000e+06  1.460000e+07    10.000000   \n",
       "75%    3206.500000          4.000000  7.500000e+06  2.147500e+07    16.000000   \n",
       "max    4268.000000          5.000000  9.900000e+06  3.950000e+07    20.000000   \n",
       "\n",
       "       cibil_score  residential_assets_value  commercial_assets_value  \\\n",
       "count  3415.000000              3.411000e+03             3.413000e+03   \n",
       "mean    600.263543              7.471240e+06             4.950718e+06   \n",
       "std     172.188706              6.546442e+06             4.370093e+06   \n",
       "min     300.000000             -1.000000e+05             0.000000e+00   \n",
       "25%     454.000000              2.100000e+06             1.300000e+06   \n",
       "50%     603.000000              5.600000e+06             3.700000e+06   \n",
       "75%     747.500000              1.120000e+07             7.500000e+06   \n",
       "max     900.000000              2.910000e+07             1.940000e+07   \n",
       "\n",
       "       luxury_assets_value  bank_asset_value  \n",
       "count         3.413000e+03      3.411000e+03  \n",
       "mean          1.518652e+07      4.947904e+06  \n",
       "std           9.175575e+06      3.232274e+06  \n",
       "min           3.000000e+05      0.000000e+00  \n",
       "25%           7.500000e+06      2.300000e+06  \n",
       "50%           1.460000e+07      4.500000e+06  \n",
       "75%           2.180000e+07      7.000000e+06  \n",
       "max           3.920000e+07      1.470000e+07  "
      ]
     },
     "execution_count": 11,
     "metadata": {},
     "output_type": "execute_result"
    }
   ],
   "source": [
    "#lets check what are categorical variables and what are numerical variables\n",
    "train.describe() #this takes only the numerical variables and gives some basic stats"
   ]
  },
  {
   "cell_type": "code",
   "execution_count": 12,
   "id": "6454e56b",
   "metadata": {},
   "outputs": [
    {
     "name": "stdout",
     "output_type": "stream",
     "text": [
      "numerical columns are  Index(['loan_id', 'no_of_dependents', 'income_annum', 'loan_amount',\n",
      "       'loan_term', 'cibil_score', 'residential_assets_value',\n",
      "       'commercial_assets_value', 'luxury_assets_value', 'bank_asset_value'],\n",
      "      dtype='object')\n",
      "categorical columns are  ['education', 'self_employed', 'loan_status']\n"
     ]
    }
   ],
   "source": [
    "print(\"numerical columns are \",train.describe().columns)\n",
    "print(\"categorical columns are \",[i for i in train.columns if i not in train.describe().columns])"
   ]
  },
  {
   "cell_type": "code",
   "execution_count": 13,
   "id": "bb180687",
   "metadata": {},
   "outputs": [
    {
     "name": "stdout",
     "output_type": "stream",
     "text": [
      " Approved    2120\n",
      " Rejected    1295\n",
      "Name: loan_status, dtype: int64\n"
     ]
    },
    {
     "data": {
      "text/plain": [
       "<AxesSubplot:>"
      ]
     },
     "execution_count": 13,
     "metadata": {},
     "output_type": "execute_result"
    },
    {
     "data": {
      "image/png": "[encoded data removed]",
      "text/plain": [
       "<Figure size 432x288 with 1 Axes>"
      ]
     },
     "metadata": {
      "needs_background": "light"
     },
     "output_type": "display_data"
    }
   ],
   "source": [
    "## lets see the distribution of our output variable whether data is balanced or imbalanced\n",
    "print(train[\"loan_status\"].value_counts())\n",
    "train[\"loan_status\"].value_counts().plot(kind=\"bar\",legend=True)"
   ]
  },
  {
   "cell_type": "code",
   "execution_count": 14,
   "id": "e7dfe003",
   "metadata": {},
   "outputs": [
    {
     "name": "stdout",
     "output_type": "stream",
     "text": [
      "The Approved percentage of points in training data 62.079062957540266\n",
      "The Rejected percentage of points in training data 37.920937042459734\n"
     ]
    }
   ],
   "source": [
    "print(\"The Approved percentage of points in training data\",(train[train[\"loan_status\"]==\" Approved\"].shape[0]/train.shape[0])*100)\n",
    "print(\"The Rejected percentage of points in training data\",(train[train[\"loan_status\"]==\" Rejected\"].shape[0]/train.shape[0])*100)\n",
    "#from this we could say data is almost balanced"
   ]
  },
  {
   "cell_type": "code",
   "execution_count": 17,
   "id": "d31e86b9",
   "metadata": {},
   "outputs": [],
   "source": [
    "train.to_csv(\"train.csv\",index=False)\n",
    "test.to_csv(\"test.csv\",index=False)"
   ]
  },
  {
   "cell_type": "code",
   "execution_count": null,
   "id": "05e887c4",
   "metadata": {},
   "outputs": [],
   "source": []
  },
  {
   "cell_type": "code",
   "execution_count": null,
   "id": "4ac5ba1e",
   "metadata": {},
   "outputs": [],
   "source": []
  }
 ],
 "metadata": {
  "kernelspec": {
   "display_name": "Python 3",
   "language": "python",
   "name": "python3"
  },
  "language_info": {
   "codemirror_mode": {
    "name": "ipython",
    "version": 3
   },
   "file_extension": ".py",
   "mimetype": "text/x-python",
   "name": "python",
   "nbconvert_exporter": "python",
   "pygments_lexer": "ipython3",
   "version": "3.8.8"
  }
 },
 "nbformat": 4,
 "nbformat_minor": 5
}
