{
 "cells": [
  {
   "cell_type": "markdown",
   "id": "e94a02d9",
   "metadata": {},
   "source": [
    "# Descriptive Analysis means getting some business insights from the data\n",
    "# or answering the questions from the data we have"
   ]
  },
  {
   "cell_type": "code",
   "execution_count": null,
   "id": "d846d947",
   "metadata": {},
   "outputs": [],
   "source": []
  },
  {
   "cell_type": "code",
   "execution_count": null,
   "id": "b57d560e",
   "metadata": {},
   "outputs": [],
   "source": []
  },
  {
   "cell_type": "markdown",
   "id": "5a12d317",
   "metadata": {},
   "source": [
    "# before answering to above questions lets handle the missing values"
   ]
  },
  {
   "cell_type": "code",
   "execution_count": 3,
   "id": "5e243319",
   "metadata": {},
   "outputs": [],
   "source": [
    "import numpy as np\n",
    "import pandas as pd\n",
    "import matplotlib.pyplot as plt\n",
    "import seaborn as sns"
   ]
  },
  {
   "cell_type": "code",
   "execution_count": 4,
   "id": "55391e6e",
   "metadata": {},
   "outputs": [
    {
     "data": {
      "text/html": [
       "<div>\n",
       "<style scoped>\n",
       "    .dataframe tbody tr th:only-of-type {\n",
       "        vertical-align: middle;\n",
       "    }\n",
       "\n",
       "    .dataframe tbody tr th {\n",
       "        vertical-align: top;\n",
       "    }\n",
       "\n",
       "    .dataframe thead th {\n",
       "        text-align: right;\n",
       "    }\n",
       "</style>\n",
       "<table border=\"1\" class=\"dataframe\">\n",
       "  <thead>\n",
       "    <tr style=\"text-align: right;\">\n",
       "      <th></th>\n",
       "      <th>loan_id</th>\n",
       "      <th>no_of_dependents</th>\n",
       "      <th>education</th>\n",
       "      <th>self_employed</th>\n",
       "      <th>income_annum</th>\n",
       "      <th>loan_amount</th>\n",
       "      <th>loan_term</th>\n",
       "      <th>cibil_score</th>\n",
       "      <th>residential_assets_value</th>\n",
       "      <th>commercial_assets_value</th>\n",
       "      <th>luxury_assets_value</th>\n",
       "      <th>bank_asset_value</th>\n",
       "      <th>loan_status</th>\n",
       "    </tr>\n",
       "  </thead>\n",
       "  <tbody>\n",
       "    <tr>\n",
       "      <th>0</th>\n",
       "      <td>1676</td>\n",
       "      <td>5.0</td>\n",
       "      <td>Not Graduate</td>\n",
       "      <td>No</td>\n",
       "      <td>7900000.0</td>\n",
       "      <td>29900000.0</td>\n",
       "      <td>6.0</td>\n",
       "      <td>568</td>\n",
       "      <td>5800000.0</td>\n",
       "      <td>13900000.0</td>\n",
       "      <td>15900000.0</td>\n",
       "      <td>8700000.0</td>\n",
       "      <td>Approved</td>\n",
       "    </tr>\n",
       "    <tr>\n",
       "      <th>1</th>\n",
       "      <td>1165</td>\n",
       "      <td>0.0</td>\n",
       "      <td>Not Graduate</td>\n",
       "      <td>Yes</td>\n",
       "      <td>9600000.0</td>\n",
       "      <td>34000000.0</td>\n",
       "      <td>12.0</td>\n",
       "      <td>710</td>\n",
       "      <td>23800000.0</td>\n",
       "      <td>10300000.0</td>\n",
       "      <td>38100000.0</td>\n",
       "      <td>7800000.0</td>\n",
       "      <td>Approved</td>\n",
       "    </tr>\n",
       "    <tr>\n",
       "      <th>2</th>\n",
       "      <td>193</td>\n",
       "      <td>1.0</td>\n",
       "      <td>Graduate</td>\n",
       "      <td>No</td>\n",
       "      <td>800000.0</td>\n",
       "      <td>2900000.0</td>\n",
       "      <td>8.0</td>\n",
       "      <td>682</td>\n",
       "      <td>2200000.0</td>\n",
       "      <td>1100000.0</td>\n",
       "      <td>2900000.0</td>\n",
       "      <td>700000.0</td>\n",
       "      <td>Approved</td>\n",
       "    </tr>\n",
       "    <tr>\n",
       "      <th>3</th>\n",
       "      <td>911</td>\n",
       "      <td>2.0</td>\n",
       "      <td>Graduate</td>\n",
       "      <td>Yes</td>\n",
       "      <td>4900000.0</td>\n",
       "      <td>13100000.0</td>\n",
       "      <td>18.0</td>\n",
       "      <td>754</td>\n",
       "      <td>8200000.0</td>\n",
       "      <td>3300000.0</td>\n",
       "      <td>16500000.0</td>\n",
       "      <td>7200000.0</td>\n",
       "      <td>Approved</td>\n",
       "    </tr>\n",
       "    <tr>\n",
       "      <th>4</th>\n",
       "      <td>568</td>\n",
       "      <td>5.0</td>\n",
       "      <td>Graduate</td>\n",
       "      <td>Yes</td>\n",
       "      <td>3000000.0</td>\n",
       "      <td>11100000.0</td>\n",
       "      <td>12.0</td>\n",
       "      <td>441</td>\n",
       "      <td>8500000.0</td>\n",
       "      <td>2500000.0</td>\n",
       "      <td>7300000.0</td>\n",
       "      <td>2000000.0</td>\n",
       "      <td>Rejected</td>\n",
       "    </tr>\n",
       "  </tbody>\n",
       "</table>\n",
       "</div>"
      ],
      "text/plain": [
       "   loan_id  no_of_dependents      education self_employed  income_annum  \\\n",
       "0     1676               5.0   Not Graduate            No     7900000.0   \n",
       "1     1165               0.0   Not Graduate           Yes     9600000.0   \n",
       "2      193               1.0       Graduate            No      800000.0   \n",
       "3      911               2.0       Graduate           Yes     4900000.0   \n",
       "4      568               5.0       Graduate           Yes     3000000.0   \n",
       "\n",
       "   loan_amount  loan_term  cibil_score  residential_assets_value  \\\n",
       "0   29900000.0        6.0          568                 5800000.0   \n",
       "1   34000000.0       12.0          710                23800000.0   \n",
       "2    2900000.0        8.0          682                 2200000.0   \n",
       "3   13100000.0       18.0          754                 8200000.0   \n",
       "4   11100000.0       12.0          441                 8500000.0   \n",
       "\n",
       "   commercial_assets_value  luxury_assets_value  bank_asset_value loan_status  \n",
       "0               13900000.0           15900000.0         8700000.0    Approved  \n",
       "1               10300000.0           38100000.0         7800000.0    Approved  \n",
       "2                1100000.0            2900000.0          700000.0    Approved  \n",
       "3                3300000.0           16500000.0         7200000.0    Approved  \n",
       "4                2500000.0            7300000.0         2000000.0    Rejected  "
      ]
     },
     "execution_count": 4,
     "metadata": {},
     "output_type": "execute_result"
    }
   ],
   "source": [
    "train=pd.read_csv(\"train.csv\")\n",
    "test=pd.read_csv(\"test.csv\")\n",
    "train.head()"
   ]
  },
  {
   "cell_type": "code",
   "execution_count": 6,
   "id": "3c3bc484",
   "metadata": {},
   "outputs": [
    {
     "name": "stdout",
     "output_type": "stream",
     "text": [
      "loan_id 0\n",
      "no_of_dependents 11\n",
      "education 8\n",
      "self_employed 4\n",
      "income_annum 5\n",
      "loan_amount 5\n",
      "loan_term 5\n",
      "cibil_score 0\n",
      "residential_assets_value 4\n",
      "commercial_assets_value 2\n",
      "luxury_assets_value 2\n",
      "bank_asset_value 4\n",
      "loan_status 0\n"
     ]
    }
   ],
   "source": [
    "for i in train.columns: #count of null values in training data \n",
    "    print(i,train[i].isnull().sum())"
   ]
  },
  {
   "cell_type": "code",
   "execution_count": 10,
   "id": "9b4fc147",
   "metadata": {},
   "outputs": [
    {
     "name": "stdout",
     "output_type": "stream",
     "text": [
      "loan_id 0\n",
      "no_of_dependents 4\n",
      "education 2\n",
      "self_employed 4\n",
      "income_annum 1\n",
      "loan_amount 2\n",
      "loan_term 0\n",
      "cibil_score 0\n",
      "residential_assets_value 1\n",
      "commercial_assets_value 2\n",
      "luxury_assets_value 1\n",
      "bank_asset_value 2\n",
      "loan_status 0\n"
     ]
    }
   ],
   "source": [
    "for i in test.columns: #count of null values in testing data\n",
    "    print(i,test[i].isnull().sum())"
   ]
  },
  {
   "cell_type": "markdown",
   "id": "e4571273",
   "metadata": {},
   "source": [
    "## Handling missing values in numerical features"
   ]
  },
  {
   "cell_type": "code",
   "execution_count": 11,
   "id": "4049b81d",
   "metadata": {},
   "outputs": [
    {
     "name": "stdout",
     "output_type": "stream",
     "text": [
      "{'loan_id': {nan: 2192.5}, 'no_of_dependents': {nan: 2.0}, 'income_annum': {nan: 5000000.0}, 'loan_amount': {nan: 14600000.0}, 'loan_term': {nan: 10.0}, 'cibil_score': {nan: 711.0}, 'residential_assets_value': {nan: 5300000.0}, 'commercial_assets_value': {nan: 3700000.0}, 'luxury_assets_value': {nan: 14400000.0}, 'bank_asset_value': {nan: 4500000.0}}\n"
     ]
    }
   ],
   "source": [
    "d_numerical_approved={} #imputing considering the class label\n",
    "for i in train.describe().columns:\n",
    "    d_numerical_approved[i]={np.nan:train[train[\"loan_status\"]==\" Approved\"][i].median()}\n",
    "print(d_numerical_approved)"
   ]
  },
  {
   "cell_type": "code",
   "execution_count": 12,
   "id": "829b5d1d",
   "metadata": {},
   "outputs": [
    {
     "name": "stdout",
     "output_type": "stream",
     "text": [
      "{'loan_id': {nan: 2074.0}, 'no_of_dependents': {nan: 2.5}, 'income_annum': {nan: 5100000.0}, 'loan_amount': {nan: 14600000.0}, 'loan_term': {nan: 12.0}, 'cibil_score': {nan: 429.0}, 'residential_assets_value': {nan: 5900000.0}, 'commercial_assets_value': {nan: 3800000.0}, 'luxury_assets_value': {nan: 14900000.0}, 'bank_asset_value': {nan: 4600000.0}}\n"
     ]
    }
   ],
   "source": [
    "d_numerical_rejected={} #imputing considering the class label\n",
    "for i in train.describe().columns:\n",
    "    d_numerical_rejected[i]={np.nan:train[train[\"loan_status\"]==\" Rejected\"][i].median()}\n",
    "print(d_numerical_rejected)"
   ]
  },
  {
   "cell_type": "code",
   "execution_count": 13,
   "id": "8e4dd348",
   "metadata": {},
   "outputs": [],
   "source": [
    "train[train[\"loan_status\"]==\" Approved\"]=train[train[\"loan_status\"]==\" Approved\"].replace(d_numerical_approved)\n",
    "train[train[\"loan_status\"]==\" Rejected\"]=train[train[\"loan_status\"]==\" Rejected\"].replace(d_numerical_rejected)"
   ]
  },
  {
   "cell_type": "code",
   "execution_count": 14,
   "id": "c3257399",
   "metadata": {},
   "outputs": [],
   "source": [
    "test[test[\"loan_status\"]==\" Approved\"]=test[test[\"loan_status\"]==\" Approved\"].replace(d_numerical_approved)\n",
    "test[test[\"loan_status\"]==\" Rejected\"]=test[test[\"loan_status\"]==\" Rejected\"].replace(d_numerical_rejected)"
   ]
  },
  {
   "cell_type": "code",
   "execution_count": null,
   "id": "95b27c6c",
   "metadata": {},
   "outputs": [],
   "source": []
  },
  {
   "cell_type": "markdown",
   "id": "18443efc",
   "metadata": {},
   "source": [
    "# Handling missing values in Categorical features"
   ]
  },
  {
   "cell_type": "code",
   "execution_count": 16,
   "id": "f967f9a1",
   "metadata": {},
   "outputs": [
    {
     "name": "stdout",
     "output_type": "stream",
     "text": [
      "{'education': {nan: ' Graduate'}, 'self_employed': {nan: ' Yes'}}\n"
     ]
    }
   ],
   "source": [
    "#.mode() returns the series so we need only values so .values gives array and in that at first index value we need so .values[0]\n",
    "d_categorical_approved={}\n",
    "for i in train.columns:\n",
    "    if i not in train.describe().columns and i!=\"loan_status\":\n",
    "        d_categorical_approved[i]={np.nan:train[train[\"loan_status\"]==\" Approved\"][i].mode().values[0]}\n",
    "print(d_categorical_approved)"
   ]
  },
  {
   "cell_type": "code",
   "execution_count": 17,
   "id": "828f7c9d",
   "metadata": {},
   "outputs": [
    {
     "name": "stdout",
     "output_type": "stream",
     "text": [
      "{'education': {nan: ' Graduate'}, 'self_employed': {nan: ' Yes'}}\n"
     ]
    }
   ],
   "source": [
    "d_categorical_rejected={}\n",
    "for i in train.columns:\n",
    "    if i not in train.describe().columns and i!=\"loan_status\":\n",
    "        d_categorical_rejected[i]={np.nan:train[train[\"loan_status\"]==\" Rejected\"][i].mode().values[0]}\n",
    "print(d_categorical_rejected)"
   ]
  },
  {
   "cell_type": "code",
   "execution_count": 18,
   "id": "3d087a4e",
   "metadata": {},
   "outputs": [],
   "source": [
    "train[train[\"loan_status\"]==\" Approved\"]=train[train[\"loan_status\"]==\" Approved\"].replace(d_categorical_approved)\n",
    "train[train[\"loan_status\"]==\" Rejected\"]=train[train[\"loan_status\"]==\" Rejected\"].replace(d_categorical_rejected)"
   ]
  },
  {
   "cell_type": "code",
   "execution_count": 19,
   "id": "02668031",
   "metadata": {},
   "outputs": [],
   "source": [
    "test[test[\"loan_status\"]==\" Approved\"]=test[test[\"loan_status\"]==\" Approved\"].replace(d_categorical_approved)\n",
    "test[test[\"loan_status\"]==\" Rejected\"]=test[test[\"loan_status\"]==\" Rejected\"].replace(d_categorical_rejected)"
   ]
  },
  {
   "cell_type": "code",
   "execution_count": 20,
   "id": "edfd8456",
   "metadata": {},
   "outputs": [
    {
     "name": "stdout",
     "output_type": "stream",
     "text": [
      "loan_id 0\n",
      "no_of_dependents 0\n",
      "education 0\n",
      "self_employed 0\n",
      "income_annum 0\n",
      "loan_amount 0\n",
      "loan_term 0\n",
      "cibil_score 0\n",
      "residential_assets_value 0\n",
      "commercial_assets_value 0\n",
      "luxury_assets_value 0\n",
      "bank_asset_value 0\n",
      "loan_status 0\n"
     ]
    }
   ],
   "source": [
    "for i in train.columns:\n",
    "    print(i,train[i].isnull().sum())"
   ]
  },
  {
   "cell_type": "code",
   "execution_count": 21,
   "id": "762639e7",
   "metadata": {},
   "outputs": [
    {
     "name": "stdout",
     "output_type": "stream",
     "text": [
      "loan_id 0\n",
      "no_of_dependents 0\n",
      "education 0\n",
      "self_employed 0\n",
      "income_annum 0\n",
      "loan_amount 0\n",
      "loan_term 0\n",
      "cibil_score 0\n",
      "residential_assets_value 0\n",
      "commercial_assets_value 0\n",
      "luxury_assets_value 0\n",
      "bank_asset_value 0\n",
      "loan_status 0\n"
     ]
    }
   ],
   "source": [
    "for i in test.columns:\n",
    "    print(i,test[i].isnull().sum())"
   ]
  },
  {
   "cell_type": "code",
   "execution_count": 13,
   "id": "44c78e37",
   "metadata": {},
   "outputs": [],
   "source": [
    "#we could see there are no null values present in train and test dataset"
   ]
  },
  {
   "cell_type": "markdown",
   "id": "1594982b",
   "metadata": {},
   "source": [
    "# Now lets answer the below questions"
   ]
  },
  {
   "cell_type": "code",
   "execution_count": 14,
   "id": "6f5d4ce2",
   "metadata": {},
   "outputs": [],
   "source": [
    "#### Lets try to answer below questions from the data\n",
    "#### 1) How many people are graduate and not Graduate who applied for loan\n",
    "#### 2) people who are graduate ratio of self employed or not and not graduate self employed or not\n",
    "#### 3) what is the maximum loan term and corresponding amount and minimum loan term and corresponding amount\n",
    "#### 4) what is the minimum loan amount and corresponding loan term and minimum loan amount and corresponding loan term\n",
    "#### 5) top 5 individuals whose annual income is more and top 5 individuals whose  annual income is less\n",
    "#### 6) average number of dependents for graduates and non graduates  \n",
    "#### 7) combined asset value of graduates and non graduates\n",
    "#### 8) cibil score of self employed and not self employed and cibil core of Graduate and not graduate\n",
    "####    cibil score of self employed and graduate , self employed not graduate ,not self employed graduate , \n",
    "####      not self employed not graduate\n",
    "# we can form many questions and can answer from the data"
   ]
  },
  {
   "cell_type": "code",
   "execution_count": null,
   "id": "a497f2d8",
   "metadata": {},
   "outputs": [],
   "source": []
  },
  {
   "cell_type": "markdown",
   "id": "cd10b4e0",
   "metadata": {},
   "source": [
    "1) How many people are graduate and not Graduate who applied for loan"
   ]
  },
  {
   "cell_type": "code",
   "execution_count": 22,
   "id": "6874f7b5",
   "metadata": {},
   "outputs": [
    {
     "data": {
      "text/plain": [
       "array([' Not Graduate', ' Graduate'], dtype=object)"
      ]
     },
     "execution_count": 22,
     "metadata": {},
     "output_type": "execute_result"
    }
   ],
   "source": [
    "train[\"education\"].unique()"
   ]
  },
  {
   "cell_type": "code",
   "execution_count": 23,
   "id": "fd81acca",
   "metadata": {},
   "outputs": [
    {
     "name": "stdout",
     "output_type": "stream",
     "text": [
      "The numper of Graduate who applied to loan are 1719\n",
      "The numper of Graduate who applied to loan are 1696\n"
     ]
    }
   ],
   "source": [
    "print(\"The numper of Graduate who applied to loan are\",train[train[\"education\"]==\" Graduate\"].shape[0])\n",
    "print(\"The numper of Graduate who applied to loan are\",train[train[\"education\"]==\" Not Graduate\"].shape[0])"
   ]
  },
  {
   "cell_type": "code",
   "execution_count": 24,
   "id": "6e5103d1",
   "metadata": {},
   "outputs": [
    {
     "data": {
      "text/plain": [
       "<AxesSubplot:xlabel='education'>"
      ]
     },
     "execution_count": 24,
     "metadata": {},
     "output_type": "execute_result"
    },
    {
     "data": {
      "image/png": "[encoded data removed]",
      "text/plain": [
       "<Figure size 432x288 with 1 Axes>"
      ]
     },
     "metadata": {
      "needs_background": "light"
     },
     "output_type": "display_data"
    }
   ],
   "source": [
    "#using Plot\n",
    "train.groupby(\"education\").count()[\"loan_id\"].plot(kind=\"bar\")"
   ]
  },
  {
   "cell_type": "markdown",
   "id": "573f4235",
   "metadata": {},
   "source": [
    "###### Conclusion \n",
    "###### There is no major difference both graduates and not graduates are equally applied for loan"
   ]
  },
  {
   "cell_type": "code",
   "execution_count": null,
   "id": "3597df2c",
   "metadata": {},
   "outputs": [],
   "source": []
  },
  {
   "cell_type": "markdown",
   "id": "f48b5c95",
   "metadata": {},
   "source": [
    "2) people who are graduate ratio of self employed or not and not graduate self employed or not"
   ]
  },
  {
   "cell_type": "code",
   "execution_count": 25,
   "id": "0db24865",
   "metadata": {},
   "outputs": [
    {
     "data": {
      "text/plain": [
       "education      self_employed\n",
       " Graduate       No              859\n",
       "                Yes             860\n",
       " Not Graduate   No              822\n",
       "                Yes             874\n",
       "Name: loan_id, dtype: int64"
      ]
     },
     "execution_count": 25,
     "metadata": {},
     "output_type": "execute_result"
    }
   ],
   "source": [
    "train.groupby([\"education\",\"self_employed\"]).count()[\"loan_id\"]"
   ]
  },
  {
   "cell_type": "code",
   "execution_count": 26,
   "id": "01e442d3",
   "metadata": {},
   "outputs": [
    {
     "data": {
      "text/plain": [
       "<AxesSubplot:xlabel='education,self_employed'>"
      ]
     },
     "execution_count": 26,
     "metadata": {},
     "output_type": "execute_result"
    },
    {
     "data": {
      "image/png": "[encoded data removed]",
      "text/plain": [
       "<Figure size 432x288 with 1 Axes>"
      ]
     },
     "metadata": {
      "needs_background": "light"
     },
     "output_type": "display_data"
    }
   ],
   "source": [
    "train.groupby([\"education\",\"self_employed\"]).count()[\"loan_id\"].plot(kind=\"bar\")"
   ]
  },
  {
   "cell_type": "markdown",
   "id": "3469ebc3",
   "metadata": {},
   "source": [
    "###### Conclusion\n",
    "###### there are more number of graduates with not self employed (obviously they go for jobs) \n",
    "###### there are more number of not graduates with self employed (obviously they will do their own business)\n",
    "###### from the data set there is no major difference but only slight difference"
   ]
  },
  {
   "cell_type": "code",
   "execution_count": null,
   "id": "190fa639",
   "metadata": {},
   "outputs": [],
   "source": []
  },
  {
   "cell_type": "markdown",
   "id": "fabf92b6",
   "metadata": {},
   "source": [
    "3) what is the maximum loan term and corresponding amount and minimum loan term and corresponding amount\n",
    "4) what is the minimum loan amount and corresponding loan term and minimum loan amount and corresponding loan term"
   ]
  },
  {
   "cell_type": "code",
   "execution_count": 27,
   "id": "fde7d3e1",
   "metadata": {},
   "outputs": [
    {
     "name": "stdout",
     "output_type": "stream",
     "text": [
      "The maximum loan term is 20.0 and it corresponding amount is \n",
      " 12       2000000.0\n",
      "14      24000000.0\n",
      "56      17500000.0\n",
      "69       6400000.0\n",
      "74      11200000.0\n",
      "           ...    \n",
      "3350     3900000.0\n",
      "3355    10600000.0\n",
      "3378    16600000.0\n",
      "3382    21200000.0\n",
      "3387    14800000.0\n",
      "Name: loan_amount, Length: 330, dtype: float64 \n",
      "\n",
      "The minimum loan term is 2.0 and it corresponding amount is \n",
      " 9       20600000.0\n",
      "17      32000000.0\n",
      "22      18900000.0\n",
      "25      13100000.0\n",
      "34      11200000.0\n",
      "           ...    \n",
      "3369    25700000.0\n",
      "3379     9700000.0\n",
      "3384    20700000.0\n",
      "3386      800000.0\n",
      "3403     5900000.0\n",
      "Name: loan_amount, Length: 313, dtype: float64 \n",
      "\n"
     ]
    }
   ],
   "source": [
    "print(\"The maximum loan term is {} and it corresponding amount is \\n {} \\n\".format(train[\"loan_term\"].max(),\\\n",
    "                                        train[train[\"loan_term\"]==train[\"loan_term\"].max()][\"loan_amount\"]))\n",
    "print(\"The minimum loan term is {} and it corresponding amount is \\n {} \\n\".format(train[\"loan_term\"].min(),\\\n",
    "                                        train[train[\"loan_term\"]==train[\"loan_term\"].min()][\"loan_amount\"]))"
   ]
  },
  {
   "cell_type": "markdown",
   "id": "d36a99c8",
   "metadata": {},
   "source": [
    "###### we could see there are many loan_amount corresponds to maximum loan term and also many loan_amount corresponds to minimum loan_term\n",
    "###### lets see any difference in their distributions"
   ]
  },
  {
   "cell_type": "code",
   "execution_count": 28,
   "id": "f2d6dc53",
   "metadata": {},
   "outputs": [],
   "source": [
    "temp_df=pd.DataFrame(train[train[\"loan_term\"]==train[\"loan_term\"].max()][\"loan_amount\"],columns=[\"loan_amount\"])\n",
    "temp_df[\"loan_term\"]=\"maximum_loan_term\"\n",
    "temp_df1=pd.DataFrame(train[train[\"loan_term\"]==train[\"loan_term\"].min()][\"loan_amount\"],columns=[\"loan_amount\"])\n",
    "temp_df1[\"loan_term\"]=\"minimum_loan_term\""
   ]
  },
  {
   "cell_type": "code",
   "execution_count": 29,
   "id": "3a249069",
   "metadata": {},
   "outputs": [],
   "source": [
    "final_temp_df=pd.concat((temp_df,temp_df1),axis=0)"
   ]
  },
  {
   "cell_type": "code",
   "execution_count": 30,
   "id": "117e2360",
   "metadata": {},
   "outputs": [
    {
     "data": {
      "text/plain": [
       "<seaborn.axisgrid.FacetGrid at 0x1c95d8c3df0>"
      ]
     },
     "execution_count": 30,
     "metadata": {},
     "output_type": "execute_result"
    },
    {
     "data": {
      "image/png": "[encoded data removed]",
      "text/plain": [
       "<Figure size 501.125x360 with 1 Axes>"
      ]
     },
     "metadata": {
      "needs_background": "light"
     },
     "output_type": "display_data"
    }
   ],
   "source": [
    "sns.displot(data=final_temp_df,x=\"loan_amount\",hue=\"loan_term\",kde=True)"
   ]
  },
  {
   "cell_type": "markdown",
   "id": "058a0aac",
   "metadata": {},
   "source": [
    "##### Conclusion\n",
    "##### there is no major differnce in amounts related to their loan_term"
   ]
  },
  {
   "cell_type": "code",
   "execution_count": null,
   "id": "f0530b79",
   "metadata": {},
   "outputs": [],
   "source": []
  },
  {
   "cell_type": "markdown",
   "id": "9c97ce9d",
   "metadata": {},
   "source": [
    "5)  Top 5 individuals whose annual income is more and Top 5 individuals whose  annual income is less"
   ]
  },
  {
   "cell_type": "code",
   "execution_count": 31,
   "id": "eec09990",
   "metadata": {},
   "outputs": [
    {
     "data": {
      "text/html": [
       "<div>\n",
       "<style scoped>\n",
       "    .dataframe tbody tr th:only-of-type {\n",
       "        vertical-align: middle;\n",
       "    }\n",
       "\n",
       "    .dataframe tbody tr th {\n",
       "        vertical-align: top;\n",
       "    }\n",
       "\n",
       "    .dataframe thead th {\n",
       "        text-align: right;\n",
       "    }\n",
       "</style>\n",
       "<table border=\"1\" class=\"dataframe\">\n",
       "  <thead>\n",
       "    <tr style=\"text-align: right;\">\n",
       "      <th></th>\n",
       "      <th>loan_id</th>\n",
       "      <th>no_of_dependents</th>\n",
       "      <th>education</th>\n",
       "      <th>self_employed</th>\n",
       "      <th>income_annum</th>\n",
       "      <th>loan_amount</th>\n",
       "      <th>loan_term</th>\n",
       "      <th>cibil_score</th>\n",
       "      <th>residential_assets_value</th>\n",
       "      <th>commercial_assets_value</th>\n",
       "      <th>luxury_assets_value</th>\n",
       "      <th>bank_asset_value</th>\n",
       "      <th>loan_status</th>\n",
       "    </tr>\n",
       "  </thead>\n",
       "  <tbody>\n",
       "    <tr>\n",
       "      <th>349</th>\n",
       "      <td>1966</td>\n",
       "      <td>0.0</td>\n",
       "      <td>Not Graduate</td>\n",
       "      <td>No</td>\n",
       "      <td>9900000.0</td>\n",
       "      <td>22300000.0</td>\n",
       "      <td>20.0</td>\n",
       "      <td>613</td>\n",
       "      <td>28400000.0</td>\n",
       "      <td>8900000.0</td>\n",
       "      <td>23600000.0</td>\n",
       "      <td>4900000.0</td>\n",
       "      <td>Approved</td>\n",
       "    </tr>\n",
       "    <tr>\n",
       "      <th>1258</th>\n",
       "      <td>1180</td>\n",
       "      <td>5.0</td>\n",
       "      <td>Graduate</td>\n",
       "      <td>No</td>\n",
       "      <td>9900000.0</td>\n",
       "      <td>35700000.0</td>\n",
       "      <td>10.0</td>\n",
       "      <td>392</td>\n",
       "      <td>7900000.0</td>\n",
       "      <td>4300000.0</td>\n",
       "      <td>39200000.0</td>\n",
       "      <td>13000000.0</td>\n",
       "      <td>Rejected</td>\n",
       "    </tr>\n",
       "    <tr>\n",
       "      <th>3058</th>\n",
       "      <td>1891</td>\n",
       "      <td>5.0</td>\n",
       "      <td>Graduate</td>\n",
       "      <td>No</td>\n",
       "      <td>9900000.0</td>\n",
       "      <td>24600000.0</td>\n",
       "      <td>2.0</td>\n",
       "      <td>530</td>\n",
       "      <td>24200000.0</td>\n",
       "      <td>12800000.0</td>\n",
       "      <td>20400000.0</td>\n",
       "      <td>13000000.0</td>\n",
       "      <td>Rejected</td>\n",
       "    </tr>\n",
       "    <tr>\n",
       "      <th>126</th>\n",
       "      <td>1028</td>\n",
       "      <td>1.0</td>\n",
       "      <td>Not Graduate</td>\n",
       "      <td>No</td>\n",
       "      <td>9900000.0</td>\n",
       "      <td>38700000.0</td>\n",
       "      <td>6.0</td>\n",
       "      <td>670</td>\n",
       "      <td>19400000.0</td>\n",
       "      <td>12600000.0</td>\n",
       "      <td>35800000.0</td>\n",
       "      <td>6500000.0</td>\n",
       "      <td>Approved</td>\n",
       "    </tr>\n",
       "    <tr>\n",
       "      <th>1405</th>\n",
       "      <td>301</td>\n",
       "      <td>0.0</td>\n",
       "      <td>Not Graduate</td>\n",
       "      <td>Yes</td>\n",
       "      <td>9900000.0</td>\n",
       "      <td>38200000.0</td>\n",
       "      <td>6.0</td>\n",
       "      <td>573</td>\n",
       "      <td>17200000.0</td>\n",
       "      <td>10000000.0</td>\n",
       "      <td>20100000.0</td>\n",
       "      <td>5900000.0</td>\n",
       "      <td>Approved</td>\n",
       "    </tr>\n",
       "  </tbody>\n",
       "</table>\n",
       "</div>"
      ],
      "text/plain": [
       "      loan_id  no_of_dependents      education self_employed  income_annum  \\\n",
       "349      1966               0.0   Not Graduate            No     9900000.0   \n",
       "1258     1180               5.0       Graduate            No     9900000.0   \n",
       "3058     1891               5.0       Graduate            No     9900000.0   \n",
       "126      1028               1.0   Not Graduate            No     9900000.0   \n",
       "1405      301               0.0   Not Graduate           Yes     9900000.0   \n",
       "\n",
       "      loan_amount  loan_term  cibil_score  residential_assets_value  \\\n",
       "349    22300000.0       20.0          613                28400000.0   \n",
       "1258   35700000.0       10.0          392                 7900000.0   \n",
       "3058   24600000.0        2.0          530                24200000.0   \n",
       "126    38700000.0        6.0          670                19400000.0   \n",
       "1405   38200000.0        6.0          573                17200000.0   \n",
       "\n",
       "      commercial_assets_value  luxury_assets_value  bank_asset_value  \\\n",
       "349                 8900000.0           23600000.0         4900000.0   \n",
       "1258                4300000.0           39200000.0        13000000.0   \n",
       "3058               12800000.0           20400000.0        13000000.0   \n",
       "126                12600000.0           35800000.0         6500000.0   \n",
       "1405               10000000.0           20100000.0         5900000.0   \n",
       "\n",
       "     loan_status  \n",
       "349     Approved  \n",
       "1258    Rejected  \n",
       "3058    Rejected  \n",
       "126     Approved  \n",
       "1405    Approved  "
      ]
     },
     "execution_count": 31,
     "metadata": {},
     "output_type": "execute_result"
    }
   ],
   "source": [
    "#Top 5 highest salaries\n",
    "train.sort_values(by=[\"income_annum\"],ascending=False).head(5)"
   ]
  },
  {
   "cell_type": "code",
   "execution_count": 32,
   "id": "7cf68ab9",
   "metadata": {},
   "outputs": [],
   "source": [
    "# i could see all top 5 highest are having same annual income so lets try to find unique top 5 highest income and corresponding data"
   ]
  },
  {
   "cell_type": "code",
   "execution_count": 33,
   "id": "52571a48",
   "metadata": {},
   "outputs": [
    {
     "name": "stdout",
     "output_type": "stream",
     "text": [
      "The top 5 salaries are [9400000. 9500000. 9600000. 9700000. 9800000.] \n"
     ]
    },
    {
     "data": {
      "text/html": [
       "<div>\n",
       "<style scoped>\n",
       "    .dataframe tbody tr th:only-of-type {\n",
       "        vertical-align: middle;\n",
       "    }\n",
       "\n",
       "    .dataframe tbody tr th {\n",
       "        vertical-align: top;\n",
       "    }\n",
       "\n",
       "    .dataframe thead th {\n",
       "        text-align: right;\n",
       "    }\n",
       "</style>\n",
       "<table border=\"1\" class=\"dataframe\">\n",
       "  <thead>\n",
       "    <tr style=\"text-align: right;\">\n",
       "      <th></th>\n",
       "      <th>loan_id</th>\n",
       "      <th>no_of_dependents</th>\n",
       "      <th>education</th>\n",
       "      <th>self_employed</th>\n",
       "      <th>income_annum</th>\n",
       "      <th>loan_amount</th>\n",
       "      <th>loan_term</th>\n",
       "      <th>cibil_score</th>\n",
       "      <th>residential_assets_value</th>\n",
       "      <th>commercial_assets_value</th>\n",
       "      <th>luxury_assets_value</th>\n",
       "      <th>bank_asset_value</th>\n",
       "      <th>loan_status</th>\n",
       "    </tr>\n",
       "  </thead>\n",
       "  <tbody>\n",
       "    <tr>\n",
       "      <th>1</th>\n",
       "      <td>1165</td>\n",
       "      <td>0.0</td>\n",
       "      <td>Not Graduate</td>\n",
       "      <td>Yes</td>\n",
       "      <td>9600000.0</td>\n",
       "      <td>34000000.0</td>\n",
       "      <td>12.0</td>\n",
       "      <td>710</td>\n",
       "      <td>23800000.0</td>\n",
       "      <td>10300000.0</td>\n",
       "      <td>38100000.0</td>\n",
       "      <td>7800000.0</td>\n",
       "      <td>Approved</td>\n",
       "    </tr>\n",
       "    <tr>\n",
       "      <th>9</th>\n",
       "      <td>440</td>\n",
       "      <td>3.0</td>\n",
       "      <td>Graduate</td>\n",
       "      <td>Yes</td>\n",
       "      <td>9500000.0</td>\n",
       "      <td>20600000.0</td>\n",
       "      <td>2.0</td>\n",
       "      <td>731</td>\n",
       "      <td>13400000.0</td>\n",
       "      <td>3800000.0</td>\n",
       "      <td>20700000.0</td>\n",
       "      <td>9200000.0</td>\n",
       "      <td>Approved</td>\n",
       "    </tr>\n",
       "    <tr>\n",
       "      <th>17</th>\n",
       "      <td>3816</td>\n",
       "      <td>0.0</td>\n",
       "      <td>Not Graduate</td>\n",
       "      <td>Yes</td>\n",
       "      <td>9500000.0</td>\n",
       "      <td>32000000.0</td>\n",
       "      <td>2.0</td>\n",
       "      <td>500</td>\n",
       "      <td>8300000.0</td>\n",
       "      <td>9700000.0</td>\n",
       "      <td>24500000.0</td>\n",
       "      <td>5600000.0</td>\n",
       "      <td>Approved</td>\n",
       "    </tr>\n",
       "    <tr>\n",
       "      <th>18</th>\n",
       "      <td>3973</td>\n",
       "      <td>2.0</td>\n",
       "      <td>Graduate</td>\n",
       "      <td>Yes</td>\n",
       "      <td>9400000.0</td>\n",
       "      <td>30000000.0</td>\n",
       "      <td>16.0</td>\n",
       "      <td>565</td>\n",
       "      <td>1200000.0</td>\n",
       "      <td>3900000.0</td>\n",
       "      <td>28200000.0</td>\n",
       "      <td>9000000.0</td>\n",
       "      <td>Approved</td>\n",
       "    </tr>\n",
       "    <tr>\n",
       "      <th>49</th>\n",
       "      <td>1035</td>\n",
       "      <td>0.0</td>\n",
       "      <td>Graduate</td>\n",
       "      <td>No</td>\n",
       "      <td>9400000.0</td>\n",
       "      <td>33000000.0</td>\n",
       "      <td>4.0</td>\n",
       "      <td>616</td>\n",
       "      <td>15400000.0</td>\n",
       "      <td>5000000.0</td>\n",
       "      <td>25100000.0</td>\n",
       "      <td>7800000.0</td>\n",
       "      <td>Approved</td>\n",
       "    </tr>\n",
       "    <tr>\n",
       "      <th>...</th>\n",
       "      <td>...</td>\n",
       "      <td>...</td>\n",
       "      <td>...</td>\n",
       "      <td>...</td>\n",
       "      <td>...</td>\n",
       "      <td>...</td>\n",
       "      <td>...</td>\n",
       "      <td>...</td>\n",
       "      <td>...</td>\n",
       "      <td>...</td>\n",
       "      <td>...</td>\n",
       "      <td>...</td>\n",
       "      <td>...</td>\n",
       "    </tr>\n",
       "    <tr>\n",
       "      <th>3359</th>\n",
       "      <td>2614</td>\n",
       "      <td>0.0</td>\n",
       "      <td>Not Graduate</td>\n",
       "      <td>Yes</td>\n",
       "      <td>9600000.0</td>\n",
       "      <td>19600000.0</td>\n",
       "      <td>12.0</td>\n",
       "      <td>500</td>\n",
       "      <td>21500000.0</td>\n",
       "      <td>700000.0</td>\n",
       "      <td>37600000.0</td>\n",
       "      <td>10900000.0</td>\n",
       "      <td>Rejected</td>\n",
       "    </tr>\n",
       "    <tr>\n",
       "      <th>3365</th>\n",
       "      <td>1956</td>\n",
       "      <td>4.0</td>\n",
       "      <td>Not Graduate</td>\n",
       "      <td>No</td>\n",
       "      <td>9500000.0</td>\n",
       "      <td>21300000.0</td>\n",
       "      <td>18.0</td>\n",
       "      <td>353</td>\n",
       "      <td>22900000.0</td>\n",
       "      <td>2300000.0</td>\n",
       "      <td>21400000.0</td>\n",
       "      <td>11100000.0</td>\n",
       "      <td>Rejected</td>\n",
       "    </tr>\n",
       "    <tr>\n",
       "      <th>3380</th>\n",
       "      <td>2436</td>\n",
       "      <td>5.0</td>\n",
       "      <td>Graduate</td>\n",
       "      <td>Yes</td>\n",
       "      <td>9600000.0</td>\n",
       "      <td>20600000.0</td>\n",
       "      <td>6.0</td>\n",
       "      <td>456</td>\n",
       "      <td>17300000.0</td>\n",
       "      <td>11000000.0</td>\n",
       "      <td>21700000.0</td>\n",
       "      <td>11600000.0</td>\n",
       "      <td>Rejected</td>\n",
       "    </tr>\n",
       "    <tr>\n",
       "      <th>3394</th>\n",
       "      <td>2748</td>\n",
       "      <td>1.0</td>\n",
       "      <td>Graduate</td>\n",
       "      <td>Yes</td>\n",
       "      <td>9700000.0</td>\n",
       "      <td>25500000.0</td>\n",
       "      <td>18.0</td>\n",
       "      <td>741</td>\n",
       "      <td>21900000.0</td>\n",
       "      <td>6200000.0</td>\n",
       "      <td>34800000.0</td>\n",
       "      <td>4900000.0</td>\n",
       "      <td>Approved</td>\n",
       "    </tr>\n",
       "    <tr>\n",
       "      <th>3407</th>\n",
       "      <td>131</td>\n",
       "      <td>0.0</td>\n",
       "      <td>Not Graduate</td>\n",
       "      <td>Yes</td>\n",
       "      <td>9500000.0</td>\n",
       "      <td>20800000.0</td>\n",
       "      <td>14.0</td>\n",
       "      <td>565</td>\n",
       "      <td>15100000.0</td>\n",
       "      <td>11900000.0</td>\n",
       "      <td>33900000.0</td>\n",
       "      <td>13400000.0</td>\n",
       "      <td>Approved</td>\n",
       "    </tr>\n",
       "  </tbody>\n",
       "</table>\n",
       "<p>166 rows × 13 columns</p>\n",
       "</div>"
      ],
      "text/plain": [
       "      loan_id  no_of_dependents      education self_employed  income_annum  \\\n",
       "1        1165               0.0   Not Graduate           Yes     9600000.0   \n",
       "9         440               3.0       Graduate           Yes     9500000.0   \n",
       "17       3816               0.0   Not Graduate           Yes     9500000.0   \n",
       "18       3973               2.0       Graduate           Yes     9400000.0   \n",
       "49       1035               0.0       Graduate            No     9400000.0   \n",
       "...       ...               ...            ...           ...           ...   \n",
       "3359     2614               0.0   Not Graduate           Yes     9600000.0   \n",
       "3365     1956               4.0   Not Graduate            No     9500000.0   \n",
       "3380     2436               5.0       Graduate           Yes     9600000.0   \n",
       "3394     2748               1.0       Graduate           Yes     9700000.0   \n",
       "3407      131               0.0   Not Graduate           Yes     9500000.0   \n",
       "\n",
       "      loan_amount  loan_term  cibil_score  residential_assets_value  \\\n",
       "1      34000000.0       12.0          710                23800000.0   \n",
       "9      20600000.0        2.0          731                13400000.0   \n",
       "17     32000000.0        2.0          500                 8300000.0   \n",
       "18     30000000.0       16.0          565                 1200000.0   \n",
       "49     33000000.0        4.0          616                15400000.0   \n",
       "...           ...        ...          ...                       ...   \n",
       "3359   19600000.0       12.0          500                21500000.0   \n",
       "3365   21300000.0       18.0          353                22900000.0   \n",
       "3380   20600000.0        6.0          456                17300000.0   \n",
       "3394   25500000.0       18.0          741                21900000.0   \n",
       "3407   20800000.0       14.0          565                15100000.0   \n",
       "\n",
       "      commercial_assets_value  luxury_assets_value  bank_asset_value  \\\n",
       "1                  10300000.0           38100000.0         7800000.0   \n",
       "9                   3800000.0           20700000.0         9200000.0   \n",
       "17                  9700000.0           24500000.0         5600000.0   \n",
       "18                  3900000.0           28200000.0         9000000.0   \n",
       "49                  5000000.0           25100000.0         7800000.0   \n",
       "...                       ...                  ...               ...   \n",
       "3359                 700000.0           37600000.0        10900000.0   \n",
       "3365                2300000.0           21400000.0        11100000.0   \n",
       "3380               11000000.0           21700000.0        11600000.0   \n",
       "3394                6200000.0           34800000.0         4900000.0   \n",
       "3407               11900000.0           33900000.0        13400000.0   \n",
       "\n",
       "     loan_status  \n",
       "1       Approved  \n",
       "9       Approved  \n",
       "17      Approved  \n",
       "18      Approved  \n",
       "49      Approved  \n",
       "...          ...  \n",
       "3359    Rejected  \n",
       "3365    Rejected  \n",
       "3380    Rejected  \n",
       "3394    Approved  \n",
       "3407    Approved  \n",
       "\n",
       "[166 rows x 13 columns]"
      ]
     },
     "execution_count": 33,
     "metadata": {},
     "output_type": "execute_result"
    }
   ],
   "source": [
    "# All 5 highest salaries are same lets find top 5 unique salaries and their corresponding data\n",
    "print(\"The top 5 salaries are {} \".format(np.sort(train[\"income_annum\"].unique())[-6:-1]))\n",
    "train[train[\"income_annum\"].isin(np.sort(train[\"income_annum\"].unique())[-6:-1])] \n",
    "#it sort in ascending order so we need top 5 so did slicing"
   ]
  },
  {
   "cell_type": "code",
   "execution_count": 34,
   "id": "acdf05e9",
   "metadata": {},
   "outputs": [
    {
     "data": {
      "text/html": [
       "<div>\n",
       "<style scoped>\n",
       "    .dataframe tbody tr th:only-of-type {\n",
       "        vertical-align: middle;\n",
       "    }\n",
       "\n",
       "    .dataframe tbody tr th {\n",
       "        vertical-align: top;\n",
       "    }\n",
       "\n",
       "    .dataframe thead th {\n",
       "        text-align: right;\n",
       "    }\n",
       "</style>\n",
       "<table border=\"1\" class=\"dataframe\">\n",
       "  <thead>\n",
       "    <tr style=\"text-align: right;\">\n",
       "      <th></th>\n",
       "      <th>loan_id</th>\n",
       "      <th>no_of_dependents</th>\n",
       "      <th>education</th>\n",
       "      <th>self_employed</th>\n",
       "      <th>income_annum</th>\n",
       "      <th>loan_amount</th>\n",
       "      <th>loan_term</th>\n",
       "      <th>cibil_score</th>\n",
       "      <th>residential_assets_value</th>\n",
       "      <th>commercial_assets_value</th>\n",
       "      <th>luxury_assets_value</th>\n",
       "      <th>bank_asset_value</th>\n",
       "      <th>loan_status</th>\n",
       "    </tr>\n",
       "  </thead>\n",
       "  <tbody>\n",
       "    <tr>\n",
       "      <th>1157</th>\n",
       "      <td>2615</td>\n",
       "      <td>2.0</td>\n",
       "      <td>Not Graduate</td>\n",
       "      <td>Yes</td>\n",
       "      <td>200000.0</td>\n",
       "      <td>500000.0</td>\n",
       "      <td>6.0</td>\n",
       "      <td>746</td>\n",
       "      <td>400000.0</td>\n",
       "      <td>0.0</td>\n",
       "      <td>500000.0</td>\n",
       "      <td>0.0</td>\n",
       "      <td>Approved</td>\n",
       "    </tr>\n",
       "    <tr>\n",
       "      <th>146</th>\n",
       "      <td>1069</td>\n",
       "      <td>1.0</td>\n",
       "      <td>Not Graduate</td>\n",
       "      <td>Yes</td>\n",
       "      <td>200000.0</td>\n",
       "      <td>400000.0</td>\n",
       "      <td>6.0</td>\n",
       "      <td>768</td>\n",
       "      <td>300000.0</td>\n",
       "      <td>100000.0</td>\n",
       "      <td>600000.0</td>\n",
       "      <td>0.0</td>\n",
       "      <td>Approved</td>\n",
       "    </tr>\n",
       "    <tr>\n",
       "      <th>3374</th>\n",
       "      <td>2825</td>\n",
       "      <td>1.0</td>\n",
       "      <td>Graduate</td>\n",
       "      <td>Yes</td>\n",
       "      <td>200000.0</td>\n",
       "      <td>500000.0</td>\n",
       "      <td>10.0</td>\n",
       "      <td>856</td>\n",
       "      <td>500000.0</td>\n",
       "      <td>200000.0</td>\n",
       "      <td>500000.0</td>\n",
       "      <td>200000.0</td>\n",
       "      <td>Approved</td>\n",
       "    </tr>\n",
       "    <tr>\n",
       "      <th>867</th>\n",
       "      <td>1144</td>\n",
       "      <td>1.0</td>\n",
       "      <td>Graduate</td>\n",
       "      <td>Yes</td>\n",
       "      <td>200000.0</td>\n",
       "      <td>400000.0</td>\n",
       "      <td>8.0</td>\n",
       "      <td>569</td>\n",
       "      <td>200000.0</td>\n",
       "      <td>200000.0</td>\n",
       "      <td>700000.0</td>\n",
       "      <td>300000.0</td>\n",
       "      <td>Approved</td>\n",
       "    </tr>\n",
       "    <tr>\n",
       "      <th>2910</th>\n",
       "      <td>3731</td>\n",
       "      <td>5.0</td>\n",
       "      <td>Graduate</td>\n",
       "      <td>No</td>\n",
       "      <td>200000.0</td>\n",
       "      <td>700000.0</td>\n",
       "      <td>18.0</td>\n",
       "      <td>707</td>\n",
       "      <td>-100000.0</td>\n",
       "      <td>100000.0</td>\n",
       "      <td>500000.0</td>\n",
       "      <td>200000.0</td>\n",
       "      <td>Approved</td>\n",
       "    </tr>\n",
       "  </tbody>\n",
       "</table>\n",
       "</div>"
      ],
      "text/plain": [
       "      loan_id  no_of_dependents      education self_employed  income_annum  \\\n",
       "1157     2615               2.0   Not Graduate           Yes      200000.0   \n",
       "146      1069               1.0   Not Graduate           Yes      200000.0   \n",
       "3374     2825               1.0       Graduate           Yes      200000.0   \n",
       "867      1144               1.0       Graduate           Yes      200000.0   \n",
       "2910     3731               5.0       Graduate            No      200000.0   \n",
       "\n",
       "      loan_amount  loan_term  cibil_score  residential_assets_value  \\\n",
       "1157     500000.0        6.0          746                  400000.0   \n",
       "146      400000.0        6.0          768                  300000.0   \n",
       "3374     500000.0       10.0          856                  500000.0   \n",
       "867      400000.0        8.0          569                  200000.0   \n",
       "2910     700000.0       18.0          707                 -100000.0   \n",
       "\n",
       "      commercial_assets_value  luxury_assets_value  bank_asset_value  \\\n",
       "1157                      0.0             500000.0               0.0   \n",
       "146                  100000.0             600000.0               0.0   \n",
       "3374                 200000.0             500000.0          200000.0   \n",
       "867                  200000.0             700000.0          300000.0   \n",
       "2910                 100000.0             500000.0          200000.0   \n",
       "\n",
       "     loan_status  \n",
       "1157    Approved  \n",
       "146     Approved  \n",
       "3374    Approved  \n",
       "867     Approved  \n",
       "2910    Approved  "
      ]
     },
     "execution_count": 34,
     "metadata": {},
     "output_type": "execute_result"
    }
   ],
   "source": [
    "#Top 5 lowest salaries\n",
    "train.sort_values(by=[\"income_annum\"],ascending=True).head(5)"
   ]
  },
  {
   "cell_type": "code",
   "execution_count": 35,
   "id": "e5dad460",
   "metadata": {},
   "outputs": [],
   "source": [
    "# i could see all top 5 lowest are having same annual income so lets try to find unique top 5 lowest income and corresponding data"
   ]
  },
  {
   "cell_type": "code",
   "execution_count": 36,
   "id": "4abe66ab",
   "metadata": {},
   "outputs": [
    {
     "name": "stdout",
     "output_type": "stream",
     "text": [
      "The top 5 salaries are [200000. 300000. 400000. 500000. 600000.] \n"
     ]
    },
    {
     "data": {
      "text/html": [
       "<div>\n",
       "<style scoped>\n",
       "    .dataframe tbody tr th:only-of-type {\n",
       "        vertical-align: middle;\n",
       "    }\n",
       "\n",
       "    .dataframe tbody tr th {\n",
       "        vertical-align: top;\n",
       "    }\n",
       "\n",
       "    .dataframe thead th {\n",
       "        text-align: right;\n",
       "    }\n",
       "</style>\n",
       "<table border=\"1\" class=\"dataframe\">\n",
       "  <thead>\n",
       "    <tr style=\"text-align: right;\">\n",
       "      <th></th>\n",
       "      <th>loan_id</th>\n",
       "      <th>no_of_dependents</th>\n",
       "      <th>education</th>\n",
       "      <th>self_employed</th>\n",
       "      <th>income_annum</th>\n",
       "      <th>loan_amount</th>\n",
       "      <th>loan_term</th>\n",
       "      <th>cibil_score</th>\n",
       "      <th>residential_assets_value</th>\n",
       "      <th>commercial_assets_value</th>\n",
       "      <th>luxury_assets_value</th>\n",
       "      <th>bank_asset_value</th>\n",
       "      <th>loan_status</th>\n",
       "    </tr>\n",
       "  </thead>\n",
       "  <tbody>\n",
       "    <tr>\n",
       "      <th>5</th>\n",
       "      <td>1559</td>\n",
       "      <td>4.0</td>\n",
       "      <td>Not Graduate</td>\n",
       "      <td>No</td>\n",
       "      <td>300000.0</td>\n",
       "      <td>1000000.0</td>\n",
       "      <td>10.0</td>\n",
       "      <td>819</td>\n",
       "      <td>700000.0</td>\n",
       "      <td>300000.0</td>\n",
       "      <td>900000.0</td>\n",
       "      <td>200000.0</td>\n",
       "      <td>Approved</td>\n",
       "    </tr>\n",
       "    <tr>\n",
       "      <th>6</th>\n",
       "      <td>1208</td>\n",
       "      <td>1.0</td>\n",
       "      <td>Not Graduate</td>\n",
       "      <td>Yes</td>\n",
       "      <td>300000.0</td>\n",
       "      <td>600000.0</td>\n",
       "      <td>8.0</td>\n",
       "      <td>816</td>\n",
       "      <td>600000.0</td>\n",
       "      <td>300000.0</td>\n",
       "      <td>1100000.0</td>\n",
       "      <td>200000.0</td>\n",
       "      <td>Approved</td>\n",
       "    </tr>\n",
       "    <tr>\n",
       "      <th>12</th>\n",
       "      <td>4200</td>\n",
       "      <td>5.0</td>\n",
       "      <td>Not Graduate</td>\n",
       "      <td>No</td>\n",
       "      <td>600000.0</td>\n",
       "      <td>2000000.0</td>\n",
       "      <td>20.0</td>\n",
       "      <td>811</td>\n",
       "      <td>300000.0</td>\n",
       "      <td>400000.0</td>\n",
       "      <td>1900000.0</td>\n",
       "      <td>600000.0</td>\n",
       "      <td>Approved</td>\n",
       "    </tr>\n",
       "    <tr>\n",
       "      <th>45</th>\n",
       "      <td>1062</td>\n",
       "      <td>3.0</td>\n",
       "      <td>Not Graduate</td>\n",
       "      <td>No</td>\n",
       "      <td>300000.0</td>\n",
       "      <td>500000.0</td>\n",
       "      <td>2.0</td>\n",
       "      <td>477</td>\n",
       "      <td>700000.0</td>\n",
       "      <td>200000.0</td>\n",
       "      <td>800000.0</td>\n",
       "      <td>400000.0</td>\n",
       "      <td>Rejected</td>\n",
       "    </tr>\n",
       "    <tr>\n",
       "      <th>62</th>\n",
       "      <td>296</td>\n",
       "      <td>1.0</td>\n",
       "      <td>Not Graduate</td>\n",
       "      <td>Yes</td>\n",
       "      <td>300000.0</td>\n",
       "      <td>1000000.0</td>\n",
       "      <td>10.0</td>\n",
       "      <td>431</td>\n",
       "      <td>400000.0</td>\n",
       "      <td>500000.0</td>\n",
       "      <td>900000.0</td>\n",
       "      <td>100000.0</td>\n",
       "      <td>Rejected</td>\n",
       "    </tr>\n",
       "    <tr>\n",
       "      <th>...</th>\n",
       "      <td>...</td>\n",
       "      <td>...</td>\n",
       "      <td>...</td>\n",
       "      <td>...</td>\n",
       "      <td>...</td>\n",
       "      <td>...</td>\n",
       "      <td>...</td>\n",
       "      <td>...</td>\n",
       "      <td>...</td>\n",
       "      <td>...</td>\n",
       "      <td>...</td>\n",
       "      <td>...</td>\n",
       "      <td>...</td>\n",
       "    </tr>\n",
       "    <tr>\n",
       "      <th>3345</th>\n",
       "      <td>380</td>\n",
       "      <td>0.0</td>\n",
       "      <td>Not Graduate</td>\n",
       "      <td>No</td>\n",
       "      <td>500000.0</td>\n",
       "      <td>1800000.0</td>\n",
       "      <td>2.0</td>\n",
       "      <td>531</td>\n",
       "      <td>1300000.0</td>\n",
       "      <td>500000.0</td>\n",
       "      <td>1900000.0</td>\n",
       "      <td>700000.0</td>\n",
       "      <td>Approved</td>\n",
       "    </tr>\n",
       "    <tr>\n",
       "      <th>3374</th>\n",
       "      <td>2825</td>\n",
       "      <td>1.0</td>\n",
       "      <td>Graduate</td>\n",
       "      <td>Yes</td>\n",
       "      <td>200000.0</td>\n",
       "      <td>500000.0</td>\n",
       "      <td>10.0</td>\n",
       "      <td>856</td>\n",
       "      <td>500000.0</td>\n",
       "      <td>200000.0</td>\n",
       "      <td>500000.0</td>\n",
       "      <td>200000.0</td>\n",
       "      <td>Approved</td>\n",
       "    </tr>\n",
       "    <tr>\n",
       "      <th>3386</th>\n",
       "      <td>1529</td>\n",
       "      <td>5.0</td>\n",
       "      <td>Graduate</td>\n",
       "      <td>Yes</td>\n",
       "      <td>400000.0</td>\n",
       "      <td>800000.0</td>\n",
       "      <td>2.0</td>\n",
       "      <td>759</td>\n",
       "      <td>100000.0</td>\n",
       "      <td>500000.0</td>\n",
       "      <td>1300000.0</td>\n",
       "      <td>300000.0</td>\n",
       "      <td>Approved</td>\n",
       "    </tr>\n",
       "    <tr>\n",
       "      <th>3388</th>\n",
       "      <td>1900</td>\n",
       "      <td>1.0</td>\n",
       "      <td>Graduate</td>\n",
       "      <td>No</td>\n",
       "      <td>500000.0</td>\n",
       "      <td>1300000.0</td>\n",
       "      <td>6.0</td>\n",
       "      <td>670</td>\n",
       "      <td>1000000.0</td>\n",
       "      <td>500000.0</td>\n",
       "      <td>1400000.0</td>\n",
       "      <td>700000.0</td>\n",
       "      <td>Approved</td>\n",
       "    </tr>\n",
       "    <tr>\n",
       "      <th>3411</th>\n",
       "      <td>467</td>\n",
       "      <td>5.0</td>\n",
       "      <td>Not Graduate</td>\n",
       "      <td>Yes</td>\n",
       "      <td>500000.0</td>\n",
       "      <td>1800000.0</td>\n",
       "      <td>18.0</td>\n",
       "      <td>411</td>\n",
       "      <td>1000000.0</td>\n",
       "      <td>500000.0</td>\n",
       "      <td>1300000.0</td>\n",
       "      <td>200000.0</td>\n",
       "      <td>Rejected</td>\n",
       "    </tr>\n",
       "  </tbody>\n",
       "</table>\n",
       "<p>190 rows × 13 columns</p>\n",
       "</div>"
      ],
      "text/plain": [
       "      loan_id  no_of_dependents      education self_employed  income_annum  \\\n",
       "5        1559               4.0   Not Graduate            No      300000.0   \n",
       "6        1208               1.0   Not Graduate           Yes      300000.0   \n",
       "12       4200               5.0   Not Graduate            No      600000.0   \n",
       "45       1062               3.0   Not Graduate            No      300000.0   \n",
       "62        296               1.0   Not Graduate           Yes      300000.0   \n",
       "...       ...               ...            ...           ...           ...   \n",
       "3345      380               0.0   Not Graduate            No      500000.0   \n",
       "3374     2825               1.0       Graduate           Yes      200000.0   \n",
       "3386     1529               5.0       Graduate           Yes      400000.0   \n",
       "3388     1900               1.0       Graduate            No      500000.0   \n",
       "3411      467               5.0   Not Graduate           Yes      500000.0   \n",
       "\n",
       "      loan_amount  loan_term  cibil_score  residential_assets_value  \\\n",
       "5       1000000.0       10.0          819                  700000.0   \n",
       "6        600000.0        8.0          816                  600000.0   \n",
       "12      2000000.0       20.0          811                  300000.0   \n",
       "45       500000.0        2.0          477                  700000.0   \n",
       "62      1000000.0       10.0          431                  400000.0   \n",
       "...           ...        ...          ...                       ...   \n",
       "3345    1800000.0        2.0          531                 1300000.0   \n",
       "3374     500000.0       10.0          856                  500000.0   \n",
       "3386     800000.0        2.0          759                  100000.0   \n",
       "3388    1300000.0        6.0          670                 1000000.0   \n",
       "3411    1800000.0       18.0          411                 1000000.0   \n",
       "\n",
       "      commercial_assets_value  luxury_assets_value  bank_asset_value  \\\n",
       "5                    300000.0             900000.0          200000.0   \n",
       "6                    300000.0            1100000.0          200000.0   \n",
       "12                   400000.0            1900000.0          600000.0   \n",
       "45                   200000.0             800000.0          400000.0   \n",
       "62                   500000.0             900000.0          100000.0   \n",
       "...                       ...                  ...               ...   \n",
       "3345                 500000.0            1900000.0          700000.0   \n",
       "3374                 200000.0             500000.0          200000.0   \n",
       "3386                 500000.0            1300000.0          300000.0   \n",
       "3388                 500000.0            1400000.0          700000.0   \n",
       "3411                 500000.0            1300000.0          200000.0   \n",
       "\n",
       "     loan_status  \n",
       "5       Approved  \n",
       "6       Approved  \n",
       "12      Approved  \n",
       "45      Rejected  \n",
       "62      Rejected  \n",
       "...          ...  \n",
       "3345    Approved  \n",
       "3374    Approved  \n",
       "3386    Approved  \n",
       "3388    Approved  \n",
       "3411    Rejected  \n",
       "\n",
       "[190 rows x 13 columns]"
      ]
     },
     "execution_count": 36,
     "metadata": {},
     "output_type": "execute_result"
    }
   ],
   "source": [
    "# All 5 lowest salaries are same lets find top 5 unique salaries and their corresponding data\n",
    "print(\"The top 5 salaries are {} \".format(np.sort(train[\"income_annum\"].unique())[0:5]))\n",
    "train[train[\"income_annum\"].isin(np.sort(train[\"income_annum\"].unique())[0:5])] \n",
    "#it sort in ascending order so we need top 5 so did slicing"
   ]
  },
  {
   "cell_type": "code",
   "execution_count": 37,
   "id": "c5fb4dba",
   "metadata": {},
   "outputs": [
    {
     "data": {
      "text/plain": [
       "<seaborn.axisgrid.FacetGrid at 0x1c95b69d4c0>"
      ]
     },
     "execution_count": 37,
     "metadata": {},
     "output_type": "execute_result"
    },
    {
     "data": {
      "image/png": "[encoded data removed]",
      "text/plain": [
       "<Figure size 360x360 with 1 Axes>"
      ]
     },
     "metadata": {
      "needs_background": "light"
     },
     "output_type": "display_data"
    }
   ],
   "source": [
    "# lets see the salary distribution \n",
    "sns.displot(data=train,x=\"income_annum\",kde=True)"
   ]
  },
  {
   "cell_type": "markdown",
   "id": "f41c4e62",
   "metadata": {},
   "source": [
    "###### Conclusion \n",
    "###### it is a kind of uniform distribution there are equal number of people from all salary ranges\n",
    "###### but there are more people from 0 to 10000 alary range from the plot we can see"
   ]
  },
  {
   "cell_type": "markdown",
   "id": "7958725c",
   "metadata": {},
   "source": [
    "6) average number of dependents for graduates and non graduates"
   ]
  },
  {
   "cell_type": "code",
   "execution_count": 38,
   "id": "9ffb9e23",
   "metadata": {},
   "outputs": [
    {
     "name": "stdout",
     "output_type": "stream",
     "text": [
      "The average number of dependents of graduates are 2.0\n",
      "The average number of dependents of graduates are 2.0\n"
     ]
    }
   ],
   "source": [
    "print(\"The average number of dependents of graduates are {}\".format(train[train[\"education\"]==\" Graduate\"][\"no_of_dependents\"].median()))\n",
    "print(\"The average number of dependents of graduates are {}\".format(train[train[\"education\"]==\" Not Graduate\"][\"no_of_dependents\"].median()))"
   ]
  },
  {
   "cell_type": "markdown",
   "id": "8725f680",
   "metadata": {},
   "source": [
    "###### Conclusion\n",
    "###### There are equal number of dependents for Graduates and not grafuates on an average"
   ]
  },
  {
   "cell_type": "code",
   "execution_count": null,
   "id": "1e2a4a58",
   "metadata": {},
   "outputs": [],
   "source": []
  },
  {
   "cell_type": "markdown",
   "id": "73056f4e",
   "metadata": {},
   "source": [
    "7) combined asset value of graduates and non graduates"
   ]
  },
  {
   "cell_type": "code",
   "execution_count": 40,
   "id": "4d93b248",
   "metadata": {},
   "outputs": [
    {
     "data": {
      "text/plain": [
       "Index(['loan_id', 'no_of_dependents', 'education', 'self_employed',\n",
       "       'income_annum', 'loan_amount', 'loan_term', 'cibil_score',\n",
       "       'residential_assets_value', 'commercial_assets_value',\n",
       "       'luxury_assets_value', 'bank_asset_value', 'loan_status'],\n",
       "      dtype='object')"
      ]
     },
     "execution_count": 40,
     "metadata": {},
     "output_type": "execute_result"
    }
   ],
   "source": [
    "train.columns"
   ]
  },
  {
   "cell_type": "code",
   "execution_count": 41,
   "id": "ca130e55",
   "metadata": {},
   "outputs": [],
   "source": [
    "#lets create a column that is combination of all asset values that individual hold\n",
    "train[\"Combined_asset_value\"]=train[\"residential_assets_value\"]+train[\"commercial_assets_value\"]+train[\"luxury_assets_value\"]+train[\"bank_asset_value\"]\n",
    "test[\"Combined_asset_value\"]=test[\"residential_assets_value\"]+test[\"commercial_assets_value\"]+test[\"luxury_assets_value\"]+test[\"bank_asset_value\"]"
   ]
  },
  {
   "cell_type": "code",
   "execution_count": 42,
   "id": "cbb6d82a",
   "metadata": {},
   "outputs": [
    {
     "data": {
      "text/plain": [
       "<AxesSubplot:xlabel='education'>"
      ]
     },
     "execution_count": 42,
     "metadata": {},
     "output_type": "execute_result"
    },
    {
     "data": {
      "image/png": "[encoded data removed]",
      "text/plain": [
       "<Figure size 432x288 with 1 Axes>"
      ]
     },
     "metadata": {
      "needs_background": "light"
     },
     "output_type": "display_data"
    }
   ],
   "source": [
    "train.groupby(\"education\").mean()[\"Combined_asset_value\"].plot(kind=\"bar\")"
   ]
  },
  {
   "cell_type": "markdown",
   "id": "c1c00716",
   "metadata": {},
   "source": [
    "##### Conclusion \n",
    "##### both graduate and non graduate asset values are equal"
   ]
  },
  {
   "cell_type": "code",
   "execution_count": null,
   "id": "0c57db12",
   "metadata": {},
   "outputs": [],
   "source": []
  },
  {
   "cell_type": "markdown",
   "id": "a4e0baf7",
   "metadata": {},
   "source": [
    "8) cibil score of self employed and not self employed and cibil core of Graduate and not graduate"
   ]
  },
  {
   "cell_type": "code",
   "execution_count": 43,
   "id": "ef5fb346",
   "metadata": {},
   "outputs": [
    {
     "data": {
      "text/plain": [
       "<AxesSubplot:xlabel='education'>"
      ]
     },
     "execution_count": 43,
     "metadata": {},
     "output_type": "execute_result"
    },
    {
     "data": {
      "image/png": "[encoded data removed]",
      "text/plain": [
       "<Figure size 432x288 with 1 Axes>"
      ]
     },
     "metadata": {
      "needs_background": "light"
     },
     "output_type": "display_data"
    }
   ],
   "source": [
    "train.groupby(\"education\").mean()[\"cibil_score\"].plot(kind=\"bar\")"
   ]
  },
  {
   "cell_type": "code",
   "execution_count": 44,
   "id": "78b3fe66",
   "metadata": {},
   "outputs": [
    {
     "data": {
      "text/plain": [
       "<AxesSubplot:xlabel='self_employed'>"
      ]
     },
     "execution_count": 44,
     "metadata": {},
     "output_type": "execute_result"
    },
    {
     "data": {
      "image/png": "[encoded data removed]",
      "text/plain": [
       "<Figure size 432x288 with 1 Axes>"
      ]
     },
     "metadata": {
      "needs_background": "light"
     },
     "output_type": "display_data"
    }
   ],
   "source": [
    "train.groupby(\"self_employed\").mean()[\"cibil_score\"].plot(kind=\"bar\")"
   ]
  },
  {
   "cell_type": "code",
   "execution_count": 45,
   "id": "1cc0f853",
   "metadata": {},
   "outputs": [
    {
     "data": {
      "text/plain": [
       "<AxesSubplot:xlabel='education,self_employed'>"
      ]
     },
     "execution_count": 45,
     "metadata": {},
     "output_type": "execute_result"
    },
    {
     "data": {
      "image/png": "[encoded data removed]",
      "text/plain": [
       "<Figure size 432x288 with 1 Axes>"
      ]
     },
     "metadata": {
      "needs_background": "light"
     },
     "output_type": "display_data"
    }
   ],
   "source": [
    "train.groupby([\"education\",\"self_employed\"]).mean()[\"cibil_score\"].plot(kind=\"bar\")"
   ]
  },
  {
   "cell_type": "markdown",
   "id": "3adf7e6e",
   "metadata": {},
   "source": [
    "###### COnclusion\n",
    "###### there is no major difference in cibil_score_also with different criteria"
   ]
  },
  {
   "cell_type": "code",
   "execution_count": 46,
   "id": "ae5b7eb4",
   "metadata": {},
   "outputs": [],
   "source": [
    "#lets write the train to our train.csv file Since we handled null values here\n",
    "train.to_csv(\"train.csv\",index=False)\n",
    "test.to_csv(\"test.csv\",index=False)"
   ]
  },
  {
   "cell_type": "code",
   "execution_count": null,
   "id": "820e8091",
   "metadata": {},
   "outputs": [],
   "source": []
  }
 ],
 "metadata": {
  "kernelspec": {
   "display_name": "Python 3",
   "language": "python",
   "name": "python3"
  },
  "language_info": {
   "codemirror_mode": {
    "name": "ipython",
    "version": 3
   },
   "file_extension": ".py",
   "mimetype": "text/x-python",
   "name": "python",
   "nbconvert_exporter": "python",
   "pygments_lexer": "ipython3",
   "version": "3.8.8"
  }
 },
 "nbformat": 4,
 "nbformat_minor": 5
}
