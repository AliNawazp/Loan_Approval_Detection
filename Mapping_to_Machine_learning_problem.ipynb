{
 "cells": [
  {
   "cell_type": "markdown",
   "id": "3c2f0ba5",
   "metadata": {},
   "source": [
    "# 3) Machine Learning Problem"
   ]
  },
  {
   "cell_type": "markdown",
   "id": "656ab44d",
   "metadata": {},
   "source": [
    "# 3.1 Data "
   ]
  },
  {
   "cell_type": "markdown",
   "id": "34b0a8c2",
   "metadata": {},
   "source": [
    "# 3.1.1 Data Overview"
   ]
  },
  {
   "cell_type": "markdown",
   "id": "5a1fc7ce",
   "metadata": {},
   "source": [
    "##### Data Contains columns ['loan_id', ' no_of_dependents', ' education', ' self_employed', ' income_annum', ' loan_amount', ' loan_term', 'cibil_score',' residential_assets_value', ' commercial_assets_value',' luxury_assets_value', ' bank_asset_value', ' loan_status']\n",
    "##### loan_approval_dataset size - 373kb\n",
    "##### Number of rows - 4269\n",
    "##### Number of columns =13"
   ]
  },
  {
   "cell_type": "markdown",
   "id": "97b85796",
   "metadata": {},
   "source": [
    "# 3.2 Mapping Real World Problem To Machine Learning Problem"
   ]
  },
  {
   "cell_type": "markdown",
   "id": "785d8d93",
   "metadata": {},
   "source": [
    "# 3.2.1 Type of Machine Learning Problem"
   ]
  },
  {
   "cell_type": "markdown",
   "id": "41e228b8",
   "metadata": {},
   "source": [
    "##### it is a binary classification problem given features we need to predict whether the individual is eligible or not for laon"
   ]
  },
  {
   "cell_type": "markdown",
   "id": "fa522bbb",
   "metadata": {},
   "source": [
    "# 3.2.2 Performance metrics\n",
    "\n",
    "##### since we need probabilities we use log loss\n",
    "##### we dont want misclassifications also lets check confusion matrix to see how good model is performing on points"
   ]
  },
  {
   "cell_type": "markdown",
   "id": "cf8effec",
   "metadata": {},
   "source": [
    "# 3.2.3 Train test Data Construction"
   ]
  },
  {
   "cell_type": "markdown",
   "id": "9af0f119",
   "metadata": {},
   "source": [
    "##### we randomly split train and test data into 70:30 or 80:20 whatever we chose we have sufficient points to work with"
   ]
  },
  {
   "cell_type": "code",
   "execution_count": null,
   "id": "e952fa30",
   "metadata": {},
   "outputs": [],
   "source": []
  },
  {
   "cell_type": "code",
   "execution_count": null,
   "id": "ea14f068",
   "metadata": {},
   "outputs": [],
   "source": []
  }
 ],
 "metadata": {
  "kernelspec": {
   "display_name": "Python 3",
   "language": "python",
   "name": "python3"
  },
  "language_info": {
   "codemirror_mode": {
    "name": "ipython",
    "version": 3
   },
   "file_extension": ".py",
   "mimetype": "text/x-python",
   "name": "python",
   "nbconvert_exporter": "python",
   "pygments_lexer": "ipython3",
   "version": "3.8.8"
  }
 },
 "nbformat": 4,
 "nbformat_minor": 5
}
