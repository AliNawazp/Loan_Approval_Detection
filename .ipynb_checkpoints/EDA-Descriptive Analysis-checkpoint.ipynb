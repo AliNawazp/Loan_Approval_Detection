{
 "cells": [
  {
   "cell_type": "markdown",
   "id": "e94a02d9",
   "metadata": {},
   "source": [
    "# Descriptive Analysis means getting some business insights from the data\n",
    "# or answering the questions from the data we have"
   ]
  },
  {
   "cell_type": "code",
   "execution_count": 1,
   "id": "d846d947",
   "metadata": {},
   "outputs": [],
   "source": []
  },
  {
   "cell_type": "code",
   "execution_count": null,
   "id": "b57d560e",
   "metadata": {},
   "outputs": [],
   "source": []
  },
  {
   "cell_type": "markdown",
   "id": "5a12d317",
   "metadata": {},
   "source": [
    "# before answering to above questions lets handle the missing values"
   ]
  },
  {
   "cell_type": "code",
   "execution_count": 1,
   "id": "5e243319",
   "metadata": {},
   "outputs": [],
   "source": [
    "import numpy as np\n",
    "import pandas as pd\n",
    "import matplotlib.pyplot as plt\n",
    "import seaborn as sns"
   ]
  },
  {
   "cell_type": "code",
   "execution_count": 2,
   "id": "55391e6e",
   "metadata": {},
   "outputs": [
    {
     "data": {
      "text/html": [
       "<div>\n",
       "<style scoped>\n",
       "    .dataframe tbody tr th:only-of-type {\n",
       "        vertical-align: middle;\n",
       "    }\n",
       "\n",
       "    .dataframe tbody tr th {\n",
       "        vertical-align: top;\n",
       "    }\n",
       "\n",
       "    .dataframe thead th {\n",
       "        text-align: right;\n",
       "    }\n",
       "</style>\n",
       "<table border=\"1\" class=\"dataframe\">\n",
       "  <thead>\n",
       "    <tr style=\"text-align: right;\">\n",
       "      <th></th>\n",
       "      <th>Unnamed: 0</th>\n",
       "      <th>no_of_dependents</th>\n",
       "      <th>education</th>\n",
       "      <th>self_employed</th>\n",
       "      <th>income_annum</th>\n",
       "      <th>loan_amount</th>\n",
       "      <th>loan_term</th>\n",
       "      <th>cibil_score</th>\n",
       "      <th>residential_assets_value</th>\n",
       "      <th>commercial_assets_value</th>\n",
       "      <th>luxury_assets_value</th>\n",
       "      <th>bank_asset_value</th>\n",
       "      <th>loan_status</th>\n",
       "    </tr>\n",
       "  </thead>\n",
       "  <tbody>\n",
       "    <tr>\n",
       "      <th>0</th>\n",
       "      <td>0</td>\n",
       "      <td>2</td>\n",
       "      <td>Graduate</td>\n",
       "      <td>No</td>\n",
       "      <td>9600000.0</td>\n",
       "      <td>29900000.0</td>\n",
       "      <td>12.0</td>\n",
       "      <td>778.0</td>\n",
       "      <td>2400000.0</td>\n",
       "      <td>17600000.0</td>\n",
       "      <td>22700000.0</td>\n",
       "      <td>8000000.0</td>\n",
       "      <td>Approved</td>\n",
       "    </tr>\n",
       "    <tr>\n",
       "      <th>1</th>\n",
       "      <td>1</td>\n",
       "      <td>0</td>\n",
       "      <td>Not Graduate</td>\n",
       "      <td>Yes</td>\n",
       "      <td>4100000.0</td>\n",
       "      <td>12200000.0</td>\n",
       "      <td>8.0</td>\n",
       "      <td>417.0</td>\n",
       "      <td>2700000.0</td>\n",
       "      <td>2200000.0</td>\n",
       "      <td>8800000.0</td>\n",
       "      <td>3300000.0</td>\n",
       "      <td>Rejected</td>\n",
       "    </tr>\n",
       "    <tr>\n",
       "      <th>2</th>\n",
       "      <td>2</td>\n",
       "      <td>3</td>\n",
       "      <td>Graduate</td>\n",
       "      <td>No</td>\n",
       "      <td>9100000.0</td>\n",
       "      <td>29700000.0</td>\n",
       "      <td>20.0</td>\n",
       "      <td>506.0</td>\n",
       "      <td>7100000.0</td>\n",
       "      <td>4500000.0</td>\n",
       "      <td>33300000.0</td>\n",
       "      <td>12800000.0</td>\n",
       "      <td>Rejected</td>\n",
       "    </tr>\n",
       "    <tr>\n",
       "      <th>3</th>\n",
       "      <td>3</td>\n",
       "      <td>3</td>\n",
       "      <td>Graduate</td>\n",
       "      <td>No</td>\n",
       "      <td>8200000.0</td>\n",
       "      <td>30700000.0</td>\n",
       "      <td>8.0</td>\n",
       "      <td>467.0</td>\n",
       "      <td>18200000.0</td>\n",
       "      <td>3300000.0</td>\n",
       "      <td>23300000.0</td>\n",
       "      <td>7900000.0</td>\n",
       "      <td>Rejected</td>\n",
       "    </tr>\n",
       "    <tr>\n",
       "      <th>4</th>\n",
       "      <td>4</td>\n",
       "      <td>5</td>\n",
       "      <td>Not Graduate</td>\n",
       "      <td>Yes</td>\n",
       "      <td>9800000.0</td>\n",
       "      <td>24200000.0</td>\n",
       "      <td>20.0</td>\n",
       "      <td>382.0</td>\n",
       "      <td>12400000.0</td>\n",
       "      <td>8200000.0</td>\n",
       "      <td>29400000.0</td>\n",
       "      <td>5000000.0</td>\n",
       "      <td>Rejected</td>\n",
       "    </tr>\n",
       "  </tbody>\n",
       "</table>\n",
       "</div>"
      ],
      "text/plain": [
       "   Unnamed: 0  no_of_dependents      education self_employed  income_annum  \\\n",
       "0           0                 2       Graduate            No     9600000.0   \n",
       "1           1                 0   Not Graduate           Yes     4100000.0   \n",
       "2           2                 3       Graduate            No     9100000.0   \n",
       "3           3                 3       Graduate            No     8200000.0   \n",
       "4           4                 5   Not Graduate           Yes     9800000.0   \n",
       "\n",
       "   loan_amount  loan_term  cibil_score  residential_assets_value  \\\n",
       "0   29900000.0       12.0        778.0                 2400000.0   \n",
       "1   12200000.0        8.0        417.0                 2700000.0   \n",
       "2   29700000.0       20.0        506.0                 7100000.0   \n",
       "3   30700000.0        8.0        467.0                18200000.0   \n",
       "4   24200000.0       20.0        382.0                12400000.0   \n",
       "\n",
       "   commercial_assets_value  luxury_assets_value  bank_asset_value loan_status  \n",
       "0               17600000.0           22700000.0         8000000.0    Approved  \n",
       "1                2200000.0            8800000.0         3300000.0    Rejected  \n",
       "2                4500000.0           33300000.0        12800000.0    Rejected  \n",
       "3                3300000.0           23300000.0         7900000.0    Rejected  \n",
       "4                8200000.0           29400000.0         5000000.0    Rejected  "
      ]
     },
     "execution_count": 2,
     "metadata": {},
     "output_type": "execute_result"
    }
   ],
   "source": [
    "df=pd.read_csv(\"loan_Approval_dataset.csv\")\n",
    "df.head()"
   ]
  },
  {
   "cell_type": "code",
   "execution_count": 6,
   "id": "71e8a03e",
   "metadata": {},
   "outputs": [],
   "source": [
    "df.rename(columns={\"Unnamed: 0\":\"loan_id\"},inplace=True)"
   ]
  },
  {
   "cell_type": "code",
   "execution_count": 7,
   "id": "6a9e3c3e",
   "metadata": {},
   "outputs": [
    {
     "data": {
      "text/html": [
       "<div>\n",
       "<style scoped>\n",
       "    .dataframe tbody tr th:only-of-type {\n",
       "        vertical-align: middle;\n",
       "    }\n",
       "\n",
       "    .dataframe tbody tr th {\n",
       "        vertical-align: top;\n",
       "    }\n",
       "\n",
       "    .dataframe thead th {\n",
       "        text-align: right;\n",
       "    }\n",
       "</style>\n",
       "<table border=\"1\" class=\"dataframe\">\n",
       "  <thead>\n",
       "    <tr style=\"text-align: right;\">\n",
       "      <th></th>\n",
       "      <th>loan_id</th>\n",
       "      <th>no_of_dependents</th>\n",
       "      <th>education</th>\n",
       "      <th>self_employed</th>\n",
       "      <th>income_annum</th>\n",
       "      <th>loan_amount</th>\n",
       "      <th>loan_term</th>\n",
       "      <th>cibil_score</th>\n",
       "      <th>residential_assets_value</th>\n",
       "      <th>commercial_assets_value</th>\n",
       "      <th>luxury_assets_value</th>\n",
       "      <th>bank_asset_value</th>\n",
       "      <th>loan_status</th>\n",
       "    </tr>\n",
       "  </thead>\n",
       "  <tbody>\n",
       "    <tr>\n",
       "      <th>0</th>\n",
       "      <td>0</td>\n",
       "      <td>2</td>\n",
       "      <td>Graduate</td>\n",
       "      <td>No</td>\n",
       "      <td>9600000.0</td>\n",
       "      <td>29900000.0</td>\n",
       "      <td>12.0</td>\n",
       "      <td>778.0</td>\n",
       "      <td>2400000.0</td>\n",
       "      <td>17600000.0</td>\n",
       "      <td>22700000.0</td>\n",
       "      <td>8000000.0</td>\n",
       "      <td>Approved</td>\n",
       "    </tr>\n",
       "    <tr>\n",
       "      <th>1</th>\n",
       "      <td>1</td>\n",
       "      <td>0</td>\n",
       "      <td>Not Graduate</td>\n",
       "      <td>Yes</td>\n",
       "      <td>4100000.0</td>\n",
       "      <td>12200000.0</td>\n",
       "      <td>8.0</td>\n",
       "      <td>417.0</td>\n",
       "      <td>2700000.0</td>\n",
       "      <td>2200000.0</td>\n",
       "      <td>8800000.0</td>\n",
       "      <td>3300000.0</td>\n",
       "      <td>Rejected</td>\n",
       "    </tr>\n",
       "    <tr>\n",
       "      <th>2</th>\n",
       "      <td>2</td>\n",
       "      <td>3</td>\n",
       "      <td>Graduate</td>\n",
       "      <td>No</td>\n",
       "      <td>9100000.0</td>\n",
       "      <td>29700000.0</td>\n",
       "      <td>20.0</td>\n",
       "      <td>506.0</td>\n",
       "      <td>7100000.0</td>\n",
       "      <td>4500000.0</td>\n",
       "      <td>33300000.0</td>\n",
       "      <td>12800000.0</td>\n",
       "      <td>Rejected</td>\n",
       "    </tr>\n",
       "    <tr>\n",
       "      <th>3</th>\n",
       "      <td>3</td>\n",
       "      <td>3</td>\n",
       "      <td>Graduate</td>\n",
       "      <td>No</td>\n",
       "      <td>8200000.0</td>\n",
       "      <td>30700000.0</td>\n",
       "      <td>8.0</td>\n",
       "      <td>467.0</td>\n",
       "      <td>18200000.0</td>\n",
       "      <td>3300000.0</td>\n",
       "      <td>23300000.0</td>\n",
       "      <td>7900000.0</td>\n",
       "      <td>Rejected</td>\n",
       "    </tr>\n",
       "    <tr>\n",
       "      <th>4</th>\n",
       "      <td>4</td>\n",
       "      <td>5</td>\n",
       "      <td>Not Graduate</td>\n",
       "      <td>Yes</td>\n",
       "      <td>9800000.0</td>\n",
       "      <td>24200000.0</td>\n",
       "      <td>20.0</td>\n",
       "      <td>382.0</td>\n",
       "      <td>12400000.0</td>\n",
       "      <td>8200000.0</td>\n",
       "      <td>29400000.0</td>\n",
       "      <td>5000000.0</td>\n",
       "      <td>Rejected</td>\n",
       "    </tr>\n",
       "  </tbody>\n",
       "</table>\n",
       "</div>"
      ],
      "text/plain": [
       "   loan_id  no_of_dependents      education self_employed  income_annum  \\\n",
       "0        0                 2       Graduate            No     9600000.0   \n",
       "1        1                 0   Not Graduate           Yes     4100000.0   \n",
       "2        2                 3       Graduate            No     9100000.0   \n",
       "3        3                 3       Graduate            No     8200000.0   \n",
       "4        4                 5   Not Graduate           Yes     9800000.0   \n",
       "\n",
       "   loan_amount  loan_term  cibil_score  residential_assets_value  \\\n",
       "0   29900000.0       12.0        778.0                 2400000.0   \n",
       "1   12200000.0        8.0        417.0                 2700000.0   \n",
       "2   29700000.0       20.0        506.0                 7100000.0   \n",
       "3   30700000.0        8.0        467.0                18200000.0   \n",
       "4   24200000.0       20.0        382.0                12400000.0   \n",
       "\n",
       "   commercial_assets_value  luxury_assets_value  bank_asset_value loan_status  \n",
       "0               17600000.0           22700000.0         8000000.0    Approved  \n",
       "1                2200000.0            8800000.0         3300000.0    Rejected  \n",
       "2                4500000.0           33300000.0        12800000.0    Rejected  \n",
       "3                3300000.0           23300000.0         7900000.0    Rejected  \n",
       "4                8200000.0           29400000.0         5000000.0    Rejected  "
      ]
     },
     "execution_count": 7,
     "metadata": {},
     "output_type": "execute_result"
    }
   ],
   "source": [
    "df.head()"
   ]
  },
  {
   "cell_type": "code",
   "execution_count": 8,
   "id": "3c3bc484",
   "metadata": {},
   "outputs": [
    {
     "name": "stdout",
     "output_type": "stream",
     "text": [
      "loan_id 0\n",
      "no_of_dependents 0\n",
      "education 3\n",
      "self_employed 5\n",
      "income_annum 2\n",
      "loan_amount 2\n",
      "loan_term 1\n",
      "cibil_score 2\n",
      "residential_assets_value 1\n",
      "commercial_assets_value 2\n",
      "luxury_assets_value 1\n",
      "bank_asset_value 1\n",
      "loan_status 0\n"
     ]
    }
   ],
   "source": [
    "for i in df.columns:\n",
    "    print(i,df[i].isnull().sum())"
   ]
  },
  {
   "cell_type": "markdown",
   "id": "e4571273",
   "metadata": {},
   "source": [
    "## Handling missing values in numerical features"
   ]
  },
  {
   "cell_type": "code",
   "execution_count": 9,
   "id": "4049b81d",
   "metadata": {},
   "outputs": [
    {
     "name": "stdout",
     "output_type": "stream",
     "text": [
      "{'loan_id': {nan: 2156.5}, 'no_of_dependents': {nan: 2.5}, 'income_annum': {nan: 5000000.0}, 'loan_amount': {nan: 14600000.0}, 'loan_term': {nan: 10.0}, 'cibil_score': {nan: 711.0}, 'residential_assets_value': {nan: 5400000.0}, 'commercial_assets_value': {nan: 3700000.0}, 'luxury_assets_value': {nan: 14400000.0}, 'bank_asset_value': {nan: 4500000.0}}\n"
     ]
    }
   ],
   "source": [
    "d_numerical_approved={} #imputing considering the class label\n",
    "for i in df.describe().columns:\n",
    "    d_numerical_approved[i]={np.nan:df[df[\"loan_status\"]==\" Approved\"][i].median()}\n",
    "print(d_numerical_approved)"
   ]
  },
  {
   "cell_type": "code",
   "execution_count": 10,
   "id": "829b5d1d",
   "metadata": {},
   "outputs": [
    {
     "name": "stdout",
     "output_type": "stream",
     "text": [
      "{'loan_id': {nan: 2096.0}, 'no_of_dependents': {nan: 3.0}, 'income_annum': {nan: 5100000.0}, 'loan_amount': {nan: 14500000.0}, 'loan_term': {nan: 12.0}, 'cibil_score': {nan: 429.0}, 'residential_assets_value': {nan: 5900000.0}, 'commercial_assets_value': {nan: 3750000.0}, 'luxury_assets_value': {nan: 14800000.0}, 'bank_asset_value': {nan: 4600000.0}}\n"
     ]
    }
   ],
   "source": [
    "d_numerical_rejected={} #imputing considering the class label\n",
    "for i in df.describe().columns:\n",
    "    d_numerical_rejected[i]={np.nan:df[df[\"loan_status\"]==\" Rejected\"][i].median()}\n",
    "print(d_numerical_rejected)"
   ]
  },
  {
   "cell_type": "code",
   "execution_count": 12,
   "id": "8e4dd348",
   "metadata": {},
   "outputs": [],
   "source": [
    "df[df[\"loan_status\"]==\" Approved\"]=df[df[\"loan_status\"]==\" Approved\"].replace(d_numerical_approved)\n",
    "df[df[\"loan_status\"]==\" Rejected\"]=df[df[\"loan_status\"]==\" Rejected\"].replace(d_numerical_rejected)"
   ]
  },
  {
   "cell_type": "markdown",
   "id": "18443efc",
   "metadata": {},
   "source": [
    "# Handling missing values in Categorical features"
   ]
  },
  {
   "cell_type": "code",
   "execution_count": 13,
   "id": "f967f9a1",
   "metadata": {},
   "outputs": [
    {
     "name": "stdout",
     "output_type": "stream",
     "text": [
      "{'education': {nan: ' Graduate'}, 'self_employed': {nan: ' Yes'}}\n"
     ]
    }
   ],
   "source": [
    "#.mode() returns the series so we need only values so .values gives array and in that at first index value we need so .values[0]\n",
    "d_categorical_approved={}\n",
    "for i in df.columns:\n",
    "    if i not in df.describe().columns and i!=\"loan_status\":\n",
    "        d_categorical_approved[i]={np.nan:df[df[\"loan_status\"]==\" Approved\"][i].mode().values[0]}\n",
    "print(d_categorical_approved)"
   ]
  },
  {
   "cell_type": "code",
   "execution_count": 14,
   "id": "828f7c9d",
   "metadata": {},
   "outputs": [
    {
     "name": "stdout",
     "output_type": "stream",
     "text": [
      "{'education': {nan: ' Not Graduate'}, 'self_employed': {nan: ' Yes'}}\n"
     ]
    }
   ],
   "source": [
    "d_categorical_rejected={}\n",
    "for i in df.columns:\n",
    "    if i not in df.describe().columns and i!=\"loan_status\":\n",
    "        d_categorical_rejected[i]={np.nan:df[df[\"loan_status\"]==\" Rejected\"][i].mode().values[0]}\n",
    "print(d_categorical_rejected)"
   ]
  },
  {
   "cell_type": "code",
   "execution_count": 15,
   "id": "3d087a4e",
   "metadata": {},
   "outputs": [],
   "source": [
    "df[df[\"loan_status\"]==\" Approved\"]=df[df[\"loan_status\"]==\" Approved\"].replace(d_categorical_approved)\n",
    "df[df[\"loan_status\"]==\" Rejected\"]=df[df[\"loan_status\"]==\" Rejected\"].replace(d_categorical_rejected)"
   ]
  },
  {
   "cell_type": "code",
   "execution_count": 18,
   "id": "edfd8456",
   "metadata": {},
   "outputs": [
    {
     "name": "stdout",
     "output_type": "stream",
     "text": [
      "loan_id 0\n",
      "no_of_dependents 0\n",
      "education 0\n",
      "self_employed 0\n",
      "income_annum 0\n",
      "loan_amount 0\n",
      "loan_term 0\n",
      "cibil_score 0\n",
      "residential_assets_value 0\n",
      "commercial_assets_value 0\n",
      "luxury_assets_value 0\n",
      "bank_asset_value 0\n",
      "loan_status 0\n"
     ]
    }
   ],
   "source": [
    "for i in df.columns:\n",
    "    print(i,df[i].isnull().sum())"
   ]
  },
  {
   "cell_type": "code",
   "execution_count": null,
   "id": "44c78e37",
   "metadata": {},
   "outputs": [],
   "source": [
    "#we could see there are no null values present"
   ]
  },
  {
   "cell_type": "markdown",
   "id": "1594982b",
   "metadata": {},
   "source": [
    "# Now lets answer the below questions"
   ]
  },
  {
   "cell_type": "code",
   "execution_count": 19,
   "id": "6f5d4ce2",
   "metadata": {},
   "outputs": [],
   "source": [
    "#### Lets try to answer below questions from the data\n",
    "#### 1) How many people are graduate and not Graduate who applied for loan\n",
    "#### 2) people who are graduate ratio of self employed or not and not graduate self employed or not\n",
    "#### 3) what is the maximum loan term and corresponding amount and minimum loan term and corresponding amount\n",
    "#### 4) what is the minimum loan amount and corresponding loan term and minimum loan amount and corresponding loan term\n",
    "#### 5) top 5 individuals whose annual income is more and top 5 individuals whose  annual income is less\n",
    "#### 6) average number of dependents for graduates and non graduates  \n",
    "#### 7) Annual income of graduates and self employed and Annual income of ungraduated and not self employed\n",
    "#### 8) combined asset value of graduates and non graduates\n",
    "#### 9) combined asset value of graduates with self employed and graduates with not self employed\n",
    "#### 10) average loan amount of self employed and not self emplopyed and average loan amount of graduates and non graduates\n",
    "#### 11) average loan amount of self employed and graduates, self employed and non graduates ,\n",
    "#####    not self employed and graduate and not self employed and  non graduate\n",
    "#### 12) cibil score of self employed and not self employed and cibil core of Graduate and not graduate\n",
    "#### 13) cibil score of self employed and graduate , self employed not graduate ,not self employed graduate , \n",
    "####      not self employed not graduate\n",
    "# we can form many questions and can answer from the data"
   ]
  },
  {
   "cell_type": "markdown",
   "id": "cd10b4e0",
   "metadata": {},
   "source": [
    "1) How many people are graduate and not Graduate who applied for loan"
   ]
  },
  {
   "cell_type": "code",
   "execution_count": 20,
   "id": "6874f7b5",
   "metadata": {},
   "outputs": [
    {
     "data": {
      "text/plain": [
       "array([' Graduate', ' Not Graduate'], dtype=object)"
      ]
     },
     "execution_count": 20,
     "metadata": {},
     "output_type": "execute_result"
    }
   ],
   "source": [
    "df[\"education\"].unique()"
   ]
  },
  {
   "cell_type": "code",
   "execution_count": 21,
   "id": "fd81acca",
   "metadata": {},
   "outputs": [
    {
     "name": "stdout",
     "output_type": "stream",
     "text": [
      "The numper of Graduate who applied to loan are 2146\n",
      "The numper of Graduate who applied to loan are 2123\n"
     ]
    }
   ],
   "source": [
    "print(\"The numper of Graduate who applied to loan are\",df[df[\"education\"]==\" Graduate\"].shape[0])\n",
    "print(\"The numper of Graduate who applied to loan are\",df[df[\"education\"]==\" Not Graduate\"].shape[0])"
   ]
  },
  {
   "cell_type": "code",
   "execution_count": 22,
   "id": "6e5103d1",
   "metadata": {},
   "outputs": [
    {
     "data": {
      "text/plain": [
       "<AxesSubplot:xlabel='education'>"
      ]
     },
     "execution_count": 22,
     "metadata": {},
     "output_type": "execute_result"
    },
    {
     "data": {
      "image/png": "[encoded data removed]",
      "text/plain": [
       "<Figure size 432x288 with 1 Axes>"
      ]
     },
     "metadata": {
      "needs_background": "light"
     },
     "output_type": "display_data"
    }
   ],
   "source": [
    "#using Plot\n",
    "df.groupby(\"education\").count()[\"loan_id\"].plot(kind=\"bar\")"
   ]
  },
  {
   "cell_type": "markdown",
   "id": "573f4235",
   "metadata": {},
   "source": [
    "###### Conclusion \n",
    "###### There is no major difference both graduates and not graduates are equally applied for loan"
   ]
  },
  {
   "cell_type": "code",
   "execution_count": null,
   "id": "3597df2c",
   "metadata": {},
   "outputs": [],
   "source": []
  },
  {
   "cell_type": "markdown",
   "id": "f48b5c95",
   "metadata": {},
   "source": [
    "2) people who are graduate ratio of self employed or not and not graduate self employed or not"
   ]
  },
  {
   "cell_type": "code",
   "execution_count": 45,
   "id": "0db24865",
   "metadata": {},
   "outputs": [
    {
     "data": {
      "text/plain": [
       "education      self_employed\n",
       " Graduate       No              1087\n",
       "                Yes             1059\n",
       " Not Graduate   No              1029\n",
       "                Yes             1094\n",
       "Name: loan_id, dtype: int64"
      ]
     },
     "execution_count": 45,
     "metadata": {},
     "output_type": "execute_result"
    }
   ],
   "source": [
    "df.groupby([\"education\",\"self_employed\"]).count()[\"loan_id\"]"
   ]
  },
  {
   "cell_type": "code",
   "execution_count": 44,
   "id": "01e442d3",
   "metadata": {},
   "outputs": [
    {
     "data": {
      "text/plain": [
       "<AxesSubplot:xlabel='education,self_employed'>"
      ]
     },
     "execution_count": 44,
     "metadata": {},
     "output_type": "execute_result"
    },
    {
     "data": {
      "image/png": "[encoded data removed]",
      "text/plain": [
       "<Figure size 432x288 with 1 Axes>"
      ]
     },
     "metadata": {
      "needs_background": "light"
     },
     "output_type": "display_data"
    }
   ],
   "source": [
    "df.groupby([\"education\",\"self_employed\"]).count()[\"loan_id\"].plot(kind=\"bar\")"
   ]
  },
  {
   "cell_type": "markdown",
   "id": "3469ebc3",
   "metadata": {},
   "source": [
    "###### Conclusion\n",
    "###### there are more number of graduates with not self employed (obviously they go for jobs) \n",
    "###### there are more number of not graduates with self employed (obviously they will do their own business)\n",
    "###### from the data set there is no major difference but only slight difference"
   ]
  },
  {
   "cell_type": "code",
   "execution_count": null,
   "id": "190fa639",
   "metadata": {},
   "outputs": [],
   "source": []
  },
  {
   "cell_type": "markdown",
   "id": "fabf92b6",
   "metadata": {},
   "source": [
    "3) what is the maximum loan term and corresponding amount and minimum loan term and corresponding amount\n",
    "4) what is the minimum loan amount and corresponding loan term and minimum loan amount and corresponding loan term"
   ]
  },
  {
   "cell_type": "code",
   "execution_count": 52,
   "id": "fde7d3e1",
   "metadata": {},
   "outputs": [
    {
     "name": "stdout",
     "output_type": "stream",
     "text": [
      "The maximum loan term is 20.0 and it corresponding amount is \n",
      " 2       29700000.0\n",
      "4       24200000.0\n",
      "7       15000000.0\n",
      "8       14600000.0\n",
      "25       9500000.0\n",
      "           ...    \n",
      "4219    16500000.0\n",
      "4232      500000.0\n",
      "4244     5600000.0\n",
      "4262     3000000.0\n",
      "4265    11300000.0\n",
      "Name: loan_amount, Length: 411, dtype: float64 \n",
      "\n",
      "The minimum loan term is 2.0 and it corresponding amount is \n",
      " 10      11200000.0\n",
      "23       1400000.0\n",
      "33      22000000.0\n",
      "40      18100000.0\n",
      "95       1100000.0\n",
      "           ...    \n",
      "4226     2600000.0\n",
      "4227     1400000.0\n",
      "4235     6500000.0\n",
      "4238     7500000.0\n",
      "4245    23900000.0\n",
      "Name: loan_amount, Length: 404, dtype: float64 \n",
      "\n"
     ]
    }
   ],
   "source": [
    "print(\"The maximum loan term is {} and it corresponding amount is \\n {} \\n\".format(df[\"loan_term\"].max(),\\\n",
    "                                        df[df[\"loan_term\"]==df[\"loan_term\"].max()][\"loan_amount\"]))\n",
    "print(\"The minimum loan term is {} and it corresponding amount is \\n {} \\n\".format(df[\"loan_term\"].min(),\\\n",
    "                                        df[df[\"loan_term\"]==df[\"loan_term\"].min()][\"loan_amount\"]))"
   ]
  },
  {
   "cell_type": "markdown",
   "id": "d36a99c8",
   "metadata": {},
   "source": [
    "###### we could see there are many loan_amount corresponds to maximum loan term and also many loan_amount corresponds to minimum loan_term\n",
    "###### lets see any difference in their distributions"
   ]
  },
  {
   "cell_type": "code",
   "execution_count": 81,
   "id": "f2d6dc53",
   "metadata": {},
   "outputs": [],
   "source": [
    "temp_df=pd.DataFrame(df[df[\"loan_term\"]==df[\"loan_term\"].max()][\"loan_amount\"],columns=[\"loan_amount\"])\n",
    "temp_df[\"loan_term\"]=\"maximum_loan_term\"\n",
    "temp_df1=pd.DataFrame(df[df[\"loan_term\"]==df[\"loan_term\"].min()][\"loan_amount\"],columns=[\"loan_amount\"])\n",
    "temp_df1[\"loan_term\"]=\"minimum_loan_term\""
   ]
  },
  {
   "cell_type": "code",
   "execution_count": 65,
   "id": "3a249069",
   "metadata": {},
   "outputs": [],
   "source": [
    "final_temp_df=pd.concat((temp_df,temp_df1),axis=0)"
   ]
  },
  {
   "cell_type": "code",
   "execution_count": 80,
   "id": "117e2360",
   "metadata": {},
   "outputs": [
    {
     "data": {
      "text/plain": [
       "<seaborn.axisgrid.FacetGrid at 0x1537f837bb0>"
      ]
     },
     "execution_count": 80,
     "metadata": {},
     "output_type": "execute_result"
    },
    {
     "data": {
      "image/png": "[encoded data removed]",
      "text/plain": [
       "<Figure size 501.125x360 with 1 Axes>"
      ]
     },
     "metadata": {
      "needs_background": "light"
     },
     "output_type": "display_data"
    }
   ],
   "source": [
    "sns.displot(data=final_temp_df,x=\"loan_amount\",hue=\"loan_term\",kde=True)"
   ]
  },
  {
   "cell_type": "markdown",
   "id": "058a0aac",
   "metadata": {},
   "source": [
    "##### Conclusion\n",
    "##### there is no major differnce in amounts related to their loan_term"
   ]
  },
  {
   "cell_type": "code",
   "execution_count": null,
   "id": "f0530b79",
   "metadata": {},
   "outputs": [],
   "source": []
  },
  {
   "cell_type": "markdown",
   "id": "9c97ce9d",
   "metadata": {},
   "source": [
    "5)  Top 5 individuals whose annual income is more and Top 5 individuals whose  annual income is less"
   ]
  },
  {
   "cell_type": "code",
   "execution_count": 83,
   "id": "eec09990",
   "metadata": {},
   "outputs": [
    {
     "data": {
      "text/html": [
       "<div>\n",
       "<style scoped>\n",
       "    .dataframe tbody tr th:only-of-type {\n",
       "        vertical-align: middle;\n",
       "    }\n",
       "\n",
       "    .dataframe tbody tr th {\n",
       "        vertical-align: top;\n",
       "    }\n",
       "\n",
       "    .dataframe thead th {\n",
       "        text-align: right;\n",
       "    }\n",
       "</style>\n",
       "<table border=\"1\" class=\"dataframe\">\n",
       "  <thead>\n",
       "    <tr style=\"text-align: right;\">\n",
       "      <th></th>\n",
       "      <th>loan_id</th>\n",
       "      <th>no_of_dependents</th>\n",
       "      <th>education</th>\n",
       "      <th>self_employed</th>\n",
       "      <th>income_annum</th>\n",
       "      <th>loan_amount</th>\n",
       "      <th>loan_term</th>\n",
       "      <th>cibil_score</th>\n",
       "      <th>residential_assets_value</th>\n",
       "      <th>commercial_assets_value</th>\n",
       "      <th>luxury_assets_value</th>\n",
       "      <th>bank_asset_value</th>\n",
       "      <th>loan_status</th>\n",
       "    </tr>\n",
       "  </thead>\n",
       "  <tbody>\n",
       "    <tr>\n",
       "      <th>1890</th>\n",
       "      <td>1890</td>\n",
       "      <td>5</td>\n",
       "      <td>Graduate</td>\n",
       "      <td>No</td>\n",
       "      <td>9900000.0</td>\n",
       "      <td>24600000.0</td>\n",
       "      <td>2.0</td>\n",
       "      <td>530.0</td>\n",
       "      <td>24200000.0</td>\n",
       "      <td>12800000.0</td>\n",
       "      <td>20400000.0</td>\n",
       "      <td>13000000.0</td>\n",
       "      <td>Rejected</td>\n",
       "    </tr>\n",
       "    <tr>\n",
       "      <th>1409</th>\n",
       "      <td>1409</td>\n",
       "      <td>3</td>\n",
       "      <td>Graduate</td>\n",
       "      <td>Yes</td>\n",
       "      <td>9900000.0</td>\n",
       "      <td>29900000.0</td>\n",
       "      <td>20.0</td>\n",
       "      <td>490.0</td>\n",
       "      <td>10500000.0</td>\n",
       "      <td>9100000.0</td>\n",
       "      <td>27100000.0</td>\n",
       "      <td>7400000.0</td>\n",
       "      <td>Rejected</td>\n",
       "    </tr>\n",
       "    <tr>\n",
       "      <th>1308</th>\n",
       "      <td>1308</td>\n",
       "      <td>1</td>\n",
       "      <td>Not Graduate</td>\n",
       "      <td>Yes</td>\n",
       "      <td>9900000.0</td>\n",
       "      <td>38500000.0</td>\n",
       "      <td>2.0</td>\n",
       "      <td>875.0</td>\n",
       "      <td>19600000.0</td>\n",
       "      <td>2900000.0</td>\n",
       "      <td>20200000.0</td>\n",
       "      <td>6500000.0</td>\n",
       "      <td>Approved</td>\n",
       "    </tr>\n",
       "    <tr>\n",
       "      <th>3163</th>\n",
       "      <td>3163</td>\n",
       "      <td>3</td>\n",
       "      <td>Not Graduate</td>\n",
       "      <td>Yes</td>\n",
       "      <td>9900000.0</td>\n",
       "      <td>26700000.0</td>\n",
       "      <td>10.0</td>\n",
       "      <td>550.0</td>\n",
       "      <td>22200000.0</td>\n",
       "      <td>15900000.0</td>\n",
       "      <td>36800000.0</td>\n",
       "      <td>6600000.0</td>\n",
       "      <td>Approved</td>\n",
       "    </tr>\n",
       "    <tr>\n",
       "      <th>300</th>\n",
       "      <td>300</td>\n",
       "      <td>0</td>\n",
       "      <td>Not Graduate</td>\n",
       "      <td>Yes</td>\n",
       "      <td>9900000.0</td>\n",
       "      <td>38200000.0</td>\n",
       "      <td>6.0</td>\n",
       "      <td>573.0</td>\n",
       "      <td>17200000.0</td>\n",
       "      <td>10000000.0</td>\n",
       "      <td>20100000.0</td>\n",
       "      <td>5900000.0</td>\n",
       "      <td>Approved</td>\n",
       "    </tr>\n",
       "  </tbody>\n",
       "</table>\n",
       "</div>"
      ],
      "text/plain": [
       "      loan_id  no_of_dependents      education self_employed  income_annum  \\\n",
       "1890     1890                 5       Graduate            No     9900000.0   \n",
       "1409     1409                 3       Graduate           Yes     9900000.0   \n",
       "1308     1308                 1   Not Graduate           Yes     9900000.0   \n",
       "3163     3163                 3   Not Graduate           Yes     9900000.0   \n",
       "300       300                 0   Not Graduate           Yes     9900000.0   \n",
       "\n",
       "      loan_amount  loan_term  cibil_score  residential_assets_value  \\\n",
       "1890   24600000.0        2.0        530.0                24200000.0   \n",
       "1409   29900000.0       20.0        490.0                10500000.0   \n",
       "1308   38500000.0        2.0        875.0                19600000.0   \n",
       "3163   26700000.0       10.0        550.0                22200000.0   \n",
       "300    38200000.0        6.0        573.0                17200000.0   \n",
       "\n",
       "      commercial_assets_value  luxury_assets_value  bank_asset_value  \\\n",
       "1890               12800000.0           20400000.0        13000000.0   \n",
       "1409                9100000.0           27100000.0         7400000.0   \n",
       "1308                2900000.0           20200000.0         6500000.0   \n",
       "3163               15900000.0           36800000.0         6600000.0   \n",
       "300                10000000.0           20100000.0         5900000.0   \n",
       "\n",
       "     loan_status  \n",
       "1890    Rejected  \n",
       "1409    Rejected  \n",
       "1308    Approved  \n",
       "3163    Approved  \n",
       "300     Approved  "
      ]
     },
     "execution_count": 83,
     "metadata": {},
     "output_type": "execute_result"
    }
   ],
   "source": [
    "df.sort_values(by=[\"income_annum\"],ascending=False).head(5)"
   ]
  },
  {
   "cell_type": "code",
   "execution_count": 84,
   "id": "acdf05e9",
   "metadata": {},
   "outputs": [
    {
     "data": {
      "text/html": [
       "<div>\n",
       "<style scoped>\n",
       "    .dataframe tbody tr th:only-of-type {\n",
       "        vertical-align: middle;\n",
       "    }\n",
       "\n",
       "    .dataframe tbody tr th {\n",
       "        vertical-align: top;\n",
       "    }\n",
       "\n",
       "    .dataframe thead th {\n",
       "        text-align: right;\n",
       "    }\n",
       "</style>\n",
       "<table border=\"1\" class=\"dataframe\">\n",
       "  <thead>\n",
       "    <tr style=\"text-align: right;\">\n",
       "      <th></th>\n",
       "      <th>loan_id</th>\n",
       "      <th>no_of_dependents</th>\n",
       "      <th>education</th>\n",
       "      <th>self_employed</th>\n",
       "      <th>income_annum</th>\n",
       "      <th>loan_amount</th>\n",
       "      <th>loan_term</th>\n",
       "      <th>cibil_score</th>\n",
       "      <th>residential_assets_value</th>\n",
       "      <th>commercial_assets_value</th>\n",
       "      <th>luxury_assets_value</th>\n",
       "      <th>bank_asset_value</th>\n",
       "      <th>loan_status</th>\n",
       "    </tr>\n",
       "  </thead>\n",
       "  <tbody>\n",
       "    <tr>\n",
       "      <th>125</th>\n",
       "      <td>125</td>\n",
       "      <td>3</td>\n",
       "      <td>Graduate</td>\n",
       "      <td>No</td>\n",
       "      <td>200000.0</td>\n",
       "      <td>600000.0</td>\n",
       "      <td>16.0</td>\n",
       "      <td>821.0</td>\n",
       "      <td>400000.0</td>\n",
       "      <td>100000.0</td>\n",
       "      <td>500000.0</td>\n",
       "      <td>100000.0</td>\n",
       "      <td>Approved</td>\n",
       "    </tr>\n",
       "    <tr>\n",
       "      <th>559</th>\n",
       "      <td>559</td>\n",
       "      <td>2</td>\n",
       "      <td>Graduate</td>\n",
       "      <td>Yes</td>\n",
       "      <td>200000.0</td>\n",
       "      <td>500000.0</td>\n",
       "      <td>6.0</td>\n",
       "      <td>885.0</td>\n",
       "      <td>-100000.0</td>\n",
       "      <td>0.0</td>\n",
       "      <td>300000.0</td>\n",
       "      <td>200000.0</td>\n",
       "      <td>Rejected</td>\n",
       "    </tr>\n",
       "    <tr>\n",
       "      <th>1866</th>\n",
       "      <td>1866</td>\n",
       "      <td>5</td>\n",
       "      <td>Not Graduate</td>\n",
       "      <td>Yes</td>\n",
       "      <td>200000.0</td>\n",
       "      <td>300000.0</td>\n",
       "      <td>8.0</td>\n",
       "      <td>412.0</td>\n",
       "      <td>-100000.0</td>\n",
       "      <td>100000.0</td>\n",
       "      <td>500000.0</td>\n",
       "      <td>100000.0</td>\n",
       "      <td>Rejected</td>\n",
       "    </tr>\n",
       "    <tr>\n",
       "      <th>1862</th>\n",
       "      <td>1862</td>\n",
       "      <td>2</td>\n",
       "      <td>Not Graduate</td>\n",
       "      <td>Yes</td>\n",
       "      <td>200000.0</td>\n",
       "      <td>600000.0</td>\n",
       "      <td>8.0</td>\n",
       "      <td>552.0</td>\n",
       "      <td>400000.0</td>\n",
       "      <td>200000.0</td>\n",
       "      <td>700000.0</td>\n",
       "      <td>200000.0</td>\n",
       "      <td>Approved</td>\n",
       "    </tr>\n",
       "    <tr>\n",
       "      <th>3039</th>\n",
       "      <td>3039</td>\n",
       "      <td>2</td>\n",
       "      <td>Graduate</td>\n",
       "      <td>Yes</td>\n",
       "      <td>200000.0</td>\n",
       "      <td>800000.0</td>\n",
       "      <td>12.0</td>\n",
       "      <td>483.0</td>\n",
       "      <td>100000.0</td>\n",
       "      <td>200000.0</td>\n",
       "      <td>600000.0</td>\n",
       "      <td>300000.0</td>\n",
       "      <td>Rejected</td>\n",
       "    </tr>\n",
       "  </tbody>\n",
       "</table>\n",
       "</div>"
      ],
      "text/plain": [
       "      loan_id  no_of_dependents      education self_employed  income_annum  \\\n",
       "125       125                 3       Graduate            No      200000.0   \n",
       "559       559                 2       Graduate           Yes      200000.0   \n",
       "1866     1866                 5   Not Graduate           Yes      200000.0   \n",
       "1862     1862                 2   Not Graduate           Yes      200000.0   \n",
       "3039     3039                 2       Graduate           Yes      200000.0   \n",
       "\n",
       "      loan_amount  loan_term  cibil_score  residential_assets_value  \\\n",
       "125      600000.0       16.0        821.0                  400000.0   \n",
       "559      500000.0        6.0        885.0                 -100000.0   \n",
       "1866     300000.0        8.0        412.0                 -100000.0   \n",
       "1862     600000.0        8.0        552.0                  400000.0   \n",
       "3039     800000.0       12.0        483.0                  100000.0   \n",
       "\n",
       "      commercial_assets_value  luxury_assets_value  bank_asset_value  \\\n",
       "125                  100000.0             500000.0          100000.0   \n",
       "559                       0.0             300000.0          200000.0   \n",
       "1866                 100000.0             500000.0          100000.0   \n",
       "1862                 200000.0             700000.0          200000.0   \n",
       "3039                 200000.0             600000.0          300000.0   \n",
       "\n",
       "     loan_status  \n",
       "125     Approved  \n",
       "559     Rejected  \n",
       "1866    Rejected  \n",
       "1862    Approved  \n",
       "3039    Rejected  "
      ]
     },
     "execution_count": 84,
     "metadata": {},
     "output_type": "execute_result"
    }
   ],
   "source": [
    "df.sort_values(by=[\"income_annum\"],ascending=True).head(5)"
   ]
  },
  {
   "cell_type": "code",
   "execution_count": null,
   "id": "e5dad460",
   "metadata": {},
   "outputs": [],
   "source": []
  }
 ],
 "metadata": {
  "kernelspec": {
   "display_name": "Python 3",
   "language": "python",
   "name": "python3"
  },
  "language_info": {
   "codemirror_mode": {
    "name": "ipython",
    "version": 3
   },
   "file_extension": ".py",
   "mimetype": "text/x-python",
   "name": "python",
   "nbconvert_exporter": "python",
   "pygments_lexer": "ipython3",
   "version": "3.8.8"
  }
 },
 "nbformat": 4,
 "nbformat_minor": 5
}
