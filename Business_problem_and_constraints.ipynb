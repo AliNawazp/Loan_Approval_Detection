{
 "cells": [
  {
   "cell_type": "markdown",
   "id": "735bf67d",
   "metadata": {},
   "source": [
    "# 1) Buiness Problem"
   ]
  },
  {
   "cell_type": "markdown",
   "id": "5cfd2f57",
   "metadata": {},
   "source": [
    "## Summary"
   ]
  },
  {
   "cell_type": "markdown",
   "id": "9789cba2",
   "metadata": {},
   "source": [
    "### The project is all about loan_Approval\n",
    "### Banks generate income by giving loans and getting interest from the loans that they have issued,This is main income\n",
    "### So before giving loan, bank has to do some research on the person to whom bank is providing the loan\n",
    "### for every individual they cannot do research, so what banks basically do is they issue a form and ask individual to fill up the form\n",
    "### in the form they mention some parameters and ask individual to fill up, based on those features bank will come to decide wheater to approve loan or not\n",
    "### every individual form banks cannot go through and decide, for that need lot of human efforts\n",
    "### finally what banks do is they will comeup with a model to tell wheather to approve the loan for individual or not\n",
    "### they will train the machine learning algorithm on the dataset that they have prepared or from the past loans history\n",
    "### for the future perosns, from which individuals fill up from there they collect information then will ask model to let us know whether to provide loan or not "
   ]
  },
  {
   "cell_type": "code",
   "execution_count": null,
   "id": "317da87c",
   "metadata": {},
   "outputs": [],
   "source": []
  },
  {
   "cell_type": "markdown",
   "id": "4bf2a43e",
   "metadata": {},
   "source": [
    "# 2) Business Constraints"
   ]
  },
  {
   "cell_type": "markdown",
   "id": "4ff615e8",
   "metadata": {},
   "source": [
    "### low latency system (not required) because we are not providing loan within seconds (no) it can take few hours few days also, so low latency is not essential\n",
    "### cost of misclassification is high (you cannot misclassify if a person who is eligible for loan if our model tells not eligible then bank is losing its revenue, Similaryly if a person is not eligible and our model tells he is eligible then our bank is lsoing revenue what if cannot repay back)\n",
    "### probability is needed (yes it is needed if a person who is eligible with 95% probability then we can say he is eligible)\n",
    "### that 95% or some value can be decided based on criticality\n",
    "### interpretability is partially important"
   ]
  },
  {
   "cell_type": "code",
   "execution_count": null,
   "id": "527a4480",
   "metadata": {},
   "outputs": [],
   "source": []
  },
  {
   "cell_type": "code",
   "execution_count": null,
   "id": "f56957f3",
   "metadata": {},
   "outputs": [],
   "source": []
  }
 ],
 "metadata": {
  "kernelspec": {
   "display_name": "Python 3",
   "language": "python",
   "name": "python3"
  },
  "language_info": {
   "codemirror_mode": {
    "name": "ipython",
    "version": 3
   },
   "file_extension": ".py",
   "mimetype": "text/x-python",
   "name": "python",
   "nbconvert_exporter": "python",
   "pygments_lexer": "ipython3",
   "version": "3.8.8"
  }
 },
 "nbformat": 4,
 "nbformat_minor": 5
}
